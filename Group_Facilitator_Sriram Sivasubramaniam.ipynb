{
 "cells": [
  {
   "cell_type": "markdown",
   "id": "20175268",
   "metadata": {},
   "source": [
    "# 1. Importing the required libraries for EDA"
   ]
  },
  {
   "cell_type": "markdown",
   "id": "4d3eabb9",
   "metadata": {},
   "source": [
    "## Importing Packages"
   ]
  },
  {
   "cell_type": "code",
   "execution_count": 1,
   "id": "c7999e5b",
   "metadata": {},
   "outputs": [],
   "source": [
    "import numpy as np\n",
    "import pandas as pd\n",
    "import matplotlib.pyplot as plt\n",
    "from matplotlib import style\n",
    "import seaborn as sns\n",
    "sns.set(style=\"whitegrid\", color_codes=True)\n",
    "import warnings\n",
    "warnings.simplefilter(action='ignore', category=FutureWarning)"
   ]
  },
  {
   "cell_type": "markdown",
   "id": "8eaf5473",
   "metadata": {},
   "source": [
    "## 2. Loading the data into the data frame."
   ]
  },
  {
   "cell_type": "code",
   "execution_count": 2,
   "id": "f8b8cdb3",
   "metadata": {},
   "outputs": [],
   "source": [
    "# Read CSV file and check it's attributes before proceeding further.\n",
    "loan = pd.read_csv(\"loan.csv\", low_memory = False)"
   ]
  },
  {
   "cell_type": "code",
   "execution_count": 3,
   "id": "0b2ad371",
   "metadata": {},
   "outputs": [
    {
     "data": {
      "text/html": [
       "<div>\n",
       "<style scoped>\n",
       "    .dataframe tbody tr th:only-of-type {\n",
       "        vertical-align: middle;\n",
       "    }\n",
       "\n",
       "    .dataframe tbody tr th {\n",
       "        vertical-align: top;\n",
       "    }\n",
       "\n",
       "    .dataframe thead th {\n",
       "        text-align: right;\n",
       "    }\n",
       "</style>\n",
       "<table border=\"1\" class=\"dataframe\">\n",
       "  <thead>\n",
       "    <tr style=\"text-align: right;\">\n",
       "      <th></th>\n",
       "      <th>id</th>\n",
       "      <th>member_id</th>\n",
       "      <th>loan_amnt</th>\n",
       "      <th>funded_amnt</th>\n",
       "      <th>funded_amnt_inv</th>\n",
       "      <th>term</th>\n",
       "      <th>int_rate</th>\n",
       "      <th>installment</th>\n",
       "      <th>grade</th>\n",
       "      <th>sub_grade</th>\n",
       "      <th>...</th>\n",
       "      <th>num_tl_90g_dpd_24m</th>\n",
       "      <th>num_tl_op_past_12m</th>\n",
       "      <th>pct_tl_nvr_dlq</th>\n",
       "      <th>percent_bc_gt_75</th>\n",
       "      <th>pub_rec_bankruptcies</th>\n",
       "      <th>tax_liens</th>\n",
       "      <th>tot_hi_cred_lim</th>\n",
       "      <th>total_bal_ex_mort</th>\n",
       "      <th>total_bc_limit</th>\n",
       "      <th>total_il_high_credit_limit</th>\n",
       "    </tr>\n",
       "  </thead>\n",
       "  <tbody>\n",
       "    <tr>\n",
       "      <th>0</th>\n",
       "      <td>1077501</td>\n",
       "      <td>1296599</td>\n",
       "      <td>5000</td>\n",
       "      <td>5000</td>\n",
       "      <td>4975.0</td>\n",
       "      <td>36 months</td>\n",
       "      <td>10.65%</td>\n",
       "      <td>162.87</td>\n",
       "      <td>B</td>\n",
       "      <td>B2</td>\n",
       "      <td>...</td>\n",
       "      <td>NaN</td>\n",
       "      <td>NaN</td>\n",
       "      <td>NaN</td>\n",
       "      <td>NaN</td>\n",
       "      <td>0.0</td>\n",
       "      <td>0.0</td>\n",
       "      <td>NaN</td>\n",
       "      <td>NaN</td>\n",
       "      <td>NaN</td>\n",
       "      <td>NaN</td>\n",
       "    </tr>\n",
       "    <tr>\n",
       "      <th>1</th>\n",
       "      <td>1077430</td>\n",
       "      <td>1314167</td>\n",
       "      <td>2500</td>\n",
       "      <td>2500</td>\n",
       "      <td>2500.0</td>\n",
       "      <td>60 months</td>\n",
       "      <td>15.27%</td>\n",
       "      <td>59.83</td>\n",
       "      <td>C</td>\n",
       "      <td>C4</td>\n",
       "      <td>...</td>\n",
       "      <td>NaN</td>\n",
       "      <td>NaN</td>\n",
       "      <td>NaN</td>\n",
       "      <td>NaN</td>\n",
       "      <td>0.0</td>\n",
       "      <td>0.0</td>\n",
       "      <td>NaN</td>\n",
       "      <td>NaN</td>\n",
       "      <td>NaN</td>\n",
       "      <td>NaN</td>\n",
       "    </tr>\n",
       "    <tr>\n",
       "      <th>2</th>\n",
       "      <td>1077175</td>\n",
       "      <td>1313524</td>\n",
       "      <td>2400</td>\n",
       "      <td>2400</td>\n",
       "      <td>2400.0</td>\n",
       "      <td>36 months</td>\n",
       "      <td>15.96%</td>\n",
       "      <td>84.33</td>\n",
       "      <td>C</td>\n",
       "      <td>C5</td>\n",
       "      <td>...</td>\n",
       "      <td>NaN</td>\n",
       "      <td>NaN</td>\n",
       "      <td>NaN</td>\n",
       "      <td>NaN</td>\n",
       "      <td>0.0</td>\n",
       "      <td>0.0</td>\n",
       "      <td>NaN</td>\n",
       "      <td>NaN</td>\n",
       "      <td>NaN</td>\n",
       "      <td>NaN</td>\n",
       "    </tr>\n",
       "    <tr>\n",
       "      <th>3</th>\n",
       "      <td>1076863</td>\n",
       "      <td>1277178</td>\n",
       "      <td>10000</td>\n",
       "      <td>10000</td>\n",
       "      <td>10000.0</td>\n",
       "      <td>36 months</td>\n",
       "      <td>13.49%</td>\n",
       "      <td>339.31</td>\n",
       "      <td>C</td>\n",
       "      <td>C1</td>\n",
       "      <td>...</td>\n",
       "      <td>NaN</td>\n",
       "      <td>NaN</td>\n",
       "      <td>NaN</td>\n",
       "      <td>NaN</td>\n",
       "      <td>0.0</td>\n",
       "      <td>0.0</td>\n",
       "      <td>NaN</td>\n",
       "      <td>NaN</td>\n",
       "      <td>NaN</td>\n",
       "      <td>NaN</td>\n",
       "    </tr>\n",
       "    <tr>\n",
       "      <th>4</th>\n",
       "      <td>1075358</td>\n",
       "      <td>1311748</td>\n",
       "      <td>3000</td>\n",
       "      <td>3000</td>\n",
       "      <td>3000.0</td>\n",
       "      <td>60 months</td>\n",
       "      <td>12.69%</td>\n",
       "      <td>67.79</td>\n",
       "      <td>B</td>\n",
       "      <td>B5</td>\n",
       "      <td>...</td>\n",
       "      <td>NaN</td>\n",
       "      <td>NaN</td>\n",
       "      <td>NaN</td>\n",
       "      <td>NaN</td>\n",
       "      <td>0.0</td>\n",
       "      <td>0.0</td>\n",
       "      <td>NaN</td>\n",
       "      <td>NaN</td>\n",
       "      <td>NaN</td>\n",
       "      <td>NaN</td>\n",
       "    </tr>\n",
       "  </tbody>\n",
       "</table>\n",
       "<p>5 rows × 111 columns</p>\n",
       "</div>"
      ],
      "text/plain": [
       "        id  member_id  loan_amnt  funded_amnt  funded_amnt_inv        term  \\\n",
       "0  1077501    1296599       5000         5000           4975.0   36 months   \n",
       "1  1077430    1314167       2500         2500           2500.0   60 months   \n",
       "2  1077175    1313524       2400         2400           2400.0   36 months   \n",
       "3  1076863    1277178      10000        10000          10000.0   36 months   \n",
       "4  1075358    1311748       3000         3000           3000.0   60 months   \n",
       "\n",
       "  int_rate  installment grade sub_grade  ... num_tl_90g_dpd_24m  \\\n",
       "0   10.65%       162.87     B        B2  ...                NaN   \n",
       "1   15.27%        59.83     C        C4  ...                NaN   \n",
       "2   15.96%        84.33     C        C5  ...                NaN   \n",
       "3   13.49%       339.31     C        C1  ...                NaN   \n",
       "4   12.69%        67.79     B        B5  ...                NaN   \n",
       "\n",
       "  num_tl_op_past_12m pct_tl_nvr_dlq  percent_bc_gt_75 pub_rec_bankruptcies  \\\n",
       "0                NaN            NaN               NaN                  0.0   \n",
       "1                NaN            NaN               NaN                  0.0   \n",
       "2                NaN            NaN               NaN                  0.0   \n",
       "3                NaN            NaN               NaN                  0.0   \n",
       "4                NaN            NaN               NaN                  0.0   \n",
       "\n",
       "  tax_liens tot_hi_cred_lim total_bal_ex_mort total_bc_limit  \\\n",
       "0       0.0             NaN               NaN            NaN   \n",
       "1       0.0             NaN               NaN            NaN   \n",
       "2       0.0             NaN               NaN            NaN   \n",
       "3       0.0             NaN               NaN            NaN   \n",
       "4       0.0             NaN               NaN            NaN   \n",
       "\n",
       "  total_il_high_credit_limit  \n",
       "0                        NaN  \n",
       "1                        NaN  \n",
       "2                        NaN  \n",
       "3                        NaN  \n",
       "4                        NaN  \n",
       "\n",
       "[5 rows x 111 columns]"
      ]
     },
     "execution_count": 3,
     "metadata": {},
     "output_type": "execute_result"
    }
   ],
   "source": [
    "# To display the top 5 rows\n",
    "loan.head()"
   ]
  },
  {
   "cell_type": "code",
   "execution_count": 4,
   "id": "c6b102cb",
   "metadata": {},
   "outputs": [
    {
     "data": {
      "text/html": [
       "<div>\n",
       "<style scoped>\n",
       "    .dataframe tbody tr th:only-of-type {\n",
       "        vertical-align: middle;\n",
       "    }\n",
       "\n",
       "    .dataframe tbody tr th {\n",
       "        vertical-align: top;\n",
       "    }\n",
       "\n",
       "    .dataframe thead th {\n",
       "        text-align: right;\n",
       "    }\n",
       "</style>\n",
       "<table border=\"1\" class=\"dataframe\">\n",
       "  <thead>\n",
       "    <tr style=\"text-align: right;\">\n",
       "      <th></th>\n",
       "      <th>id</th>\n",
       "      <th>member_id</th>\n",
       "      <th>loan_amnt</th>\n",
       "      <th>funded_amnt</th>\n",
       "      <th>funded_amnt_inv</th>\n",
       "      <th>term</th>\n",
       "      <th>int_rate</th>\n",
       "      <th>installment</th>\n",
       "      <th>grade</th>\n",
       "      <th>sub_grade</th>\n",
       "      <th>...</th>\n",
       "      <th>num_tl_90g_dpd_24m</th>\n",
       "      <th>num_tl_op_past_12m</th>\n",
       "      <th>pct_tl_nvr_dlq</th>\n",
       "      <th>percent_bc_gt_75</th>\n",
       "      <th>pub_rec_bankruptcies</th>\n",
       "      <th>tax_liens</th>\n",
       "      <th>tot_hi_cred_lim</th>\n",
       "      <th>total_bal_ex_mort</th>\n",
       "      <th>total_bc_limit</th>\n",
       "      <th>total_il_high_credit_limit</th>\n",
       "    </tr>\n",
       "  </thead>\n",
       "  <tbody>\n",
       "    <tr>\n",
       "      <th>39712</th>\n",
       "      <td>92187</td>\n",
       "      <td>92174</td>\n",
       "      <td>2500</td>\n",
       "      <td>2500</td>\n",
       "      <td>1075.0</td>\n",
       "      <td>36 months</td>\n",
       "      <td>8.07%</td>\n",
       "      <td>78.42</td>\n",
       "      <td>A</td>\n",
       "      <td>A4</td>\n",
       "      <td>...</td>\n",
       "      <td>NaN</td>\n",
       "      <td>NaN</td>\n",
       "      <td>NaN</td>\n",
       "      <td>NaN</td>\n",
       "      <td>NaN</td>\n",
       "      <td>NaN</td>\n",
       "      <td>NaN</td>\n",
       "      <td>NaN</td>\n",
       "      <td>NaN</td>\n",
       "      <td>NaN</td>\n",
       "    </tr>\n",
       "    <tr>\n",
       "      <th>39713</th>\n",
       "      <td>90665</td>\n",
       "      <td>90607</td>\n",
       "      <td>8500</td>\n",
       "      <td>8500</td>\n",
       "      <td>875.0</td>\n",
       "      <td>36 months</td>\n",
       "      <td>10.28%</td>\n",
       "      <td>275.38</td>\n",
       "      <td>C</td>\n",
       "      <td>C1</td>\n",
       "      <td>...</td>\n",
       "      <td>NaN</td>\n",
       "      <td>NaN</td>\n",
       "      <td>NaN</td>\n",
       "      <td>NaN</td>\n",
       "      <td>NaN</td>\n",
       "      <td>NaN</td>\n",
       "      <td>NaN</td>\n",
       "      <td>NaN</td>\n",
       "      <td>NaN</td>\n",
       "      <td>NaN</td>\n",
       "    </tr>\n",
       "    <tr>\n",
       "      <th>39714</th>\n",
       "      <td>90395</td>\n",
       "      <td>90390</td>\n",
       "      <td>5000</td>\n",
       "      <td>5000</td>\n",
       "      <td>1325.0</td>\n",
       "      <td>36 months</td>\n",
       "      <td>8.07%</td>\n",
       "      <td>156.84</td>\n",
       "      <td>A</td>\n",
       "      <td>A4</td>\n",
       "      <td>...</td>\n",
       "      <td>NaN</td>\n",
       "      <td>NaN</td>\n",
       "      <td>NaN</td>\n",
       "      <td>NaN</td>\n",
       "      <td>NaN</td>\n",
       "      <td>NaN</td>\n",
       "      <td>NaN</td>\n",
       "      <td>NaN</td>\n",
       "      <td>NaN</td>\n",
       "      <td>NaN</td>\n",
       "    </tr>\n",
       "    <tr>\n",
       "      <th>39715</th>\n",
       "      <td>90376</td>\n",
       "      <td>89243</td>\n",
       "      <td>5000</td>\n",
       "      <td>5000</td>\n",
       "      <td>650.0</td>\n",
       "      <td>36 months</td>\n",
       "      <td>7.43%</td>\n",
       "      <td>155.38</td>\n",
       "      <td>A</td>\n",
       "      <td>A2</td>\n",
       "      <td>...</td>\n",
       "      <td>NaN</td>\n",
       "      <td>NaN</td>\n",
       "      <td>NaN</td>\n",
       "      <td>NaN</td>\n",
       "      <td>NaN</td>\n",
       "      <td>NaN</td>\n",
       "      <td>NaN</td>\n",
       "      <td>NaN</td>\n",
       "      <td>NaN</td>\n",
       "      <td>NaN</td>\n",
       "    </tr>\n",
       "    <tr>\n",
       "      <th>39716</th>\n",
       "      <td>87023</td>\n",
       "      <td>86999</td>\n",
       "      <td>7500</td>\n",
       "      <td>7500</td>\n",
       "      <td>800.0</td>\n",
       "      <td>36 months</td>\n",
       "      <td>13.75%</td>\n",
       "      <td>255.43</td>\n",
       "      <td>E</td>\n",
       "      <td>E2</td>\n",
       "      <td>...</td>\n",
       "      <td>NaN</td>\n",
       "      <td>NaN</td>\n",
       "      <td>NaN</td>\n",
       "      <td>NaN</td>\n",
       "      <td>NaN</td>\n",
       "      <td>NaN</td>\n",
       "      <td>NaN</td>\n",
       "      <td>NaN</td>\n",
       "      <td>NaN</td>\n",
       "      <td>NaN</td>\n",
       "    </tr>\n",
       "  </tbody>\n",
       "</table>\n",
       "<p>5 rows × 111 columns</p>\n",
       "</div>"
      ],
      "text/plain": [
       "          id  member_id  loan_amnt  funded_amnt  funded_amnt_inv        term  \\\n",
       "39712  92187      92174       2500         2500           1075.0   36 months   \n",
       "39713  90665      90607       8500         8500            875.0   36 months   \n",
       "39714  90395      90390       5000         5000           1325.0   36 months   \n",
       "39715  90376      89243       5000         5000            650.0   36 months   \n",
       "39716  87023      86999       7500         7500            800.0   36 months   \n",
       "\n",
       "      int_rate  installment grade sub_grade  ... num_tl_90g_dpd_24m  \\\n",
       "39712    8.07%        78.42     A        A4  ...                NaN   \n",
       "39713   10.28%       275.38     C        C1  ...                NaN   \n",
       "39714    8.07%       156.84     A        A4  ...                NaN   \n",
       "39715    7.43%       155.38     A        A2  ...                NaN   \n",
       "39716   13.75%       255.43     E        E2  ...                NaN   \n",
       "\n",
       "      num_tl_op_past_12m pct_tl_nvr_dlq  percent_bc_gt_75  \\\n",
       "39712                NaN            NaN               NaN   \n",
       "39713                NaN            NaN               NaN   \n",
       "39714                NaN            NaN               NaN   \n",
       "39715                NaN            NaN               NaN   \n",
       "39716                NaN            NaN               NaN   \n",
       "\n",
       "      pub_rec_bankruptcies tax_liens tot_hi_cred_lim total_bal_ex_mort  \\\n",
       "39712                  NaN       NaN             NaN               NaN   \n",
       "39713                  NaN       NaN             NaN               NaN   \n",
       "39714                  NaN       NaN             NaN               NaN   \n",
       "39715                  NaN       NaN             NaN               NaN   \n",
       "39716                  NaN       NaN             NaN               NaN   \n",
       "\n",
       "      total_bc_limit total_il_high_credit_limit  \n",
       "39712            NaN                        NaN  \n",
       "39713            NaN                        NaN  \n",
       "39714            NaN                        NaN  \n",
       "39715            NaN                        NaN  \n",
       "39716            NaN                        NaN  \n",
       "\n",
       "[5 rows x 111 columns]"
      ]
     },
     "execution_count": 4,
     "metadata": {},
     "output_type": "execute_result"
    }
   ],
   "source": [
    "loan.tail(5)                         # To display the bottom 5 rows"
   ]
  },
  {
   "cell_type": "markdown",
   "id": "32c7b93c",
   "metadata": {},
   "source": [
    "## 3. Checking the types of data"
   ]
  },
  {
   "cell_type": "code",
   "execution_count": 5,
   "id": "23c13145",
   "metadata": {},
   "outputs": [
    {
     "data": {
      "text/plain": [
       "id                              int64\n",
       "member_id                       int64\n",
       "loan_amnt                       int64\n",
       "funded_amnt                     int64\n",
       "funded_amnt_inv               float64\n",
       "                               ...   \n",
       "tax_liens                     float64\n",
       "tot_hi_cred_lim               float64\n",
       "total_bal_ex_mort             float64\n",
       "total_bc_limit                float64\n",
       "total_il_high_credit_limit    float64\n",
       "Length: 111, dtype: object"
      ]
     },
     "execution_count": 5,
     "metadata": {},
     "output_type": "execute_result"
    }
   ],
   "source": [
    "loan.dtypes"
   ]
  },
  {
   "cell_type": "code",
   "execution_count": 6,
   "id": "a589f276",
   "metadata": {},
   "outputs": [
    {
     "name": "stdout",
     "output_type": "stream",
     "text": [
      "<class 'pandas.core.frame.DataFrame'>\n",
      "RangeIndex: 39717 entries, 0 to 39716\n",
      "Columns: 111 entries, id to total_il_high_credit_limit\n",
      "dtypes: float64(74), int64(13), object(24)\n",
      "memory usage: 33.6+ MB\n"
     ]
    }
   ],
   "source": [
    "# Information about the DataFrame\n",
    "loan.info()"
   ]
  },
  {
   "cell_type": "code",
   "execution_count": 7,
   "id": "9bf65ce1",
   "metadata": {},
   "outputs": [
    {
     "data": {
      "text/plain": [
       "(39717, 111)"
      ]
     },
     "execution_count": 7,
     "metadata": {},
     "output_type": "execute_result"
    }
   ],
   "source": [
    "# Checking the DataFrame Shape\n",
    "loan.shape\n",
    "\n",
    "# DataFrame is madeup of 39717 Rows and 111 Columns of data"
   ]
  },
  {
   "cell_type": "code",
   "execution_count": 8,
   "id": "18583ef4",
   "metadata": {},
   "outputs": [
    {
     "data": {
      "image/png": "[encoded data removed]",
      "text/plain": [
       "<Figure size 720x288 with 1 Axes>"
      ]
     },
     "metadata": {},
     "output_type": "display_data"
    }
   ],
   "source": [
    "# As we see some columns have missing values and unique values\n",
    "# Let us do some cleanup of NULLs from rows and columns of the loan dataframe\n",
    "cl = loan.isnull().sum()\n",
    "cl.plot(kind='hist', bins=50, figsize = (10,4))\n",
    "plt.show()"
   ]
  },
  {
   "cell_type": "markdown",
   "id": "755aeae0",
   "metadata": {},
   "source": [
    "###### In the above figure, X-axis contains number of NULL values and Y-axis contains number of columns. We can clearly see that there is a huge spike towards the 40K mark. The total records in our data is 39,717. Obviously  We would not need the columns that have all NULLs. Also, we see there are few columns above 10K mark, but let us analyze those before dropping"
   ]
  },
  {
   "cell_type": "code",
   "execution_count": 9,
   "id": "52a40712",
   "metadata": {},
   "outputs": [
    {
     "data": {
      "text/plain": [
       "desc                      12940\n",
       "mths_since_last_delinq    25682\n",
       "mths_since_last_record    36931\n",
       "next_pymnt_d              38577\n",
       "dtype: int64"
      ]
     },
     "execution_count": 9,
     "metadata": {},
     "output_type": "execute_result"
    }
   ],
   "source": [
    "cl.loc[(cl.values > 10000) & (cl.values < 39717)].sort_values()"
   ]
  },
  {
   "cell_type": "code",
   "execution_count": 10,
   "id": "ea914909",
   "metadata": {},
   "outputs": [
    {
     "data": {
      "text/plain": [
       "(39717, 53)"
      ]
     },
     "execution_count": 10,
     "metadata": {},
     "output_type": "execute_result"
    }
   ],
   "source": [
    "loan.drop(columns=list(cl[cl.values > 10000].index), inplace=True)\n",
    "loan.shape"
   ]
  },
  {
   "cell_type": "markdown",
   "id": "2c8696d1",
   "metadata": {},
   "source": [
    "## We dropped those columns with missing data"
   ]
  },
  {
   "cell_type": "markdown",
   "id": "3786ec71",
   "metadata": {},
   "source": [
    "##### Let us see if there are any columns with unique or single values in them."
   ]
  },
  {
   "cell_type": "code",
   "execution_count": 11,
   "id": "f3e81732",
   "metadata": {},
   "outputs": [
    {
     "name": "stdout",
     "output_type": "stream",
     "text": [
      "id                            39717\n",
      "member_id                     39717\n",
      "loan_amnt                       885\n",
      "funded_amnt                    1041\n",
      "funded_amnt_inv                8205\n",
      "term                              2\n",
      "int_rate                        371\n",
      "installment                   15383\n",
      "grade                             7\n",
      "sub_grade                        35\n",
      "emp_title                     28820\n",
      "emp_length                       11\n",
      "home_ownership                    5\n",
      "annual_inc                     5318\n",
      "verification_status               3\n",
      "issue_d                          55\n",
      "loan_status                       3\n",
      "pymnt_plan                        1\n",
      "url                           39717\n",
      "purpose                          14\n",
      "title                         19615\n",
      "zip_code                        823\n",
      "addr_state                       50\n",
      "dti                            2868\n",
      "delinq_2yrs                      11\n",
      "earliest_cr_line                526\n",
      "inq_last_6mths                    9\n",
      "open_acc                         40\n",
      "pub_rec                           5\n",
      "revol_bal                     21711\n",
      "revol_util                     1089\n",
      "total_acc                        82\n",
      "initial_list_status               1\n",
      "out_prncp                      1137\n",
      "out_prncp_inv                  1138\n",
      "total_pymnt                   37850\n",
      "total_pymnt_inv               37518\n",
      "total_rec_prncp                7976\n",
      "total_rec_int                 35148\n",
      "total_rec_late_fee             1356\n",
      "recoveries                     4040\n",
      "collection_recovery_fee        2616\n",
      "last_pymnt_d                    101\n",
      "last_pymnt_amnt               34930\n",
      "last_credit_pull_d              106\n",
      "collections_12_mths_ex_med        1\n",
      "policy_code                       1\n",
      "application_type                  1\n",
      "acc_now_delinq                    1\n",
      "chargeoff_within_12_mths          1\n",
      "delinq_amnt                       1\n",
      "pub_rec_bankruptcies              3\n",
      "tax_liens                         1\n",
      "dtype: int64\n"
     ]
    }
   ],
   "source": [
    "# Using the nunique() method returns the number of unique values for each column\n",
    "column_unique = loan.nunique()\n",
    "print(column_unique)"
   ]
  },
  {
   "cell_type": "markdown",
   "id": "d83f5788",
   "metadata": {},
   "source": [
    "##### We can actually look at those columns with single value and drop them as they will be no use for the analysis"
   ]
  },
  {
   "cell_type": "code",
   "execution_count": 12,
   "id": "dd4a7792",
   "metadata": {},
   "outputs": [
    {
     "data": {
      "text/plain": [
       "Index(['pymnt_plan', 'initial_list_status', 'collections_12_mths_ex_med',\n",
       "       'policy_code', 'application_type', 'acc_now_delinq',\n",
       "       'chargeoff_within_12_mths', 'delinq_amnt', 'tax_liens'],\n",
       "      dtype='object')"
      ]
     },
     "execution_count": 12,
     "metadata": {},
     "output_type": "execute_result"
    }
   ],
   "source": [
    "c1 = column_unique[column_unique.values == 1]\n",
    "c1.index"
   ]
  },
  {
   "cell_type": "markdown",
   "id": "38a6385f",
   "metadata": {},
   "source": [
    "##### Drop above columns with values \"1\""
   ]
  },
  {
   "cell_type": "code",
   "execution_count": 13,
   "id": "9776d12a",
   "metadata": {},
   "outputs": [
    {
     "data": {
      "text/plain": [
       "(39717, 44)"
      ]
     },
     "execution_count": 13,
     "metadata": {},
     "output_type": "execute_result"
    }
   ],
   "source": [
    "loan.drop(columns = list(c1.index), inplace=True)\n",
    "loan.shape"
   ]
  },
  {
   "cell_type": "markdown",
   "id": "68440a17",
   "metadata": {},
   "source": [
    "- ##### From 111 columns , we came down to 44 with same number of rows so far."
   ]
  },
  {
   "cell_type": "markdown",
   "id": "c051e842",
   "metadata": {},
   "source": [
    "##### The company wants to know which loan applications are risky. Therefore, the fields that are created after a loan application is approved doesn't make sense for our analysis towards the business objective. Secondly, fields like id, member_id & url are different for each application. zip_code could have been a useful driver, but it contains only partial data which might impute our analysis negatively. Therefore, let us drop all these columns mentioned below"
   ]
  },
  {
   "cell_type": "code",
   "execution_count": 14,
   "id": "744c24b1",
   "metadata": {},
   "outputs": [
    {
     "data": {
      "text/plain": [
       "(39717, 28)"
      ]
     },
     "execution_count": 14,
     "metadata": {},
     "output_type": "execute_result"
    }
   ],
   "source": [
    "del_cols = [\"id\",\"member_id\",\"url\",\"zip_code\",\"out_prncp\",\"out_prncp_inv\",\"total_pymnt_inv\",\n",
    "            \"total_rec_prncp\",\"total_rec_int\",\"total_rec_late_fee\",\"recoveries\",\"collection_recovery_fee\",\n",
    "            \"last_pymnt_d\",\"last_pymnt_amnt\",\"last_credit_pull_d\",'earliest_cr_line']\n",
    "loan.drop(columns=del_cols, inplace=True)\n",
    "loan.shape"
   ]
  },
  {
   "cell_type": "code",
   "execution_count": 15,
   "id": "772314ac",
   "metadata": {},
   "outputs": [
    {
     "data": {
      "text/plain": [
       "(39717, 22)"
      ]
     },
     "execution_count": 15,
     "metadata": {},
     "output_type": "execute_result"
    }
   ],
   "source": [
    "customer_be = ['delinq_2yrs','inq_last_6mths','pub_rec','pub_rec_bankruptcies','total_acc','total_pymnt']\n",
    "loan.drop(columns = customer_be, inplace = True)\n",
    "loan.shape"
   ]
  },
  {
   "cell_type": "markdown",
   "id": "8621beae",
   "metadata": {},
   "source": [
    "##### The customer behavior variables are not available at the time of loan application, and this they connot be used as predictors for credit approval."
   ]
  },
  {
   "cell_type": "code",
   "execution_count": 16,
   "id": "9aa4df6b",
   "metadata": {},
   "outputs": [
    {
     "name": "stdout",
     "output_type": "stream",
     "text": [
      "<class 'pandas.core.frame.DataFrame'>\n",
      "RangeIndex: 39717 entries, 0 to 39716\n",
      "Data columns (total 22 columns):\n",
      " #   Column               Non-Null Count  Dtype  \n",
      "---  ------               --------------  -----  \n",
      " 0   loan_amnt            39717 non-null  int64  \n",
      " 1   funded_amnt          39717 non-null  int64  \n",
      " 2   funded_amnt_inv      39717 non-null  float64\n",
      " 3   term                 39717 non-null  object \n",
      " 4   int_rate             39717 non-null  object \n",
      " 5   installment          39717 non-null  float64\n",
      " 6   grade                39717 non-null  object \n",
      " 7   sub_grade            39717 non-null  object \n",
      " 8   emp_title            37258 non-null  object \n",
      " 9   emp_length           38642 non-null  object \n",
      " 10  home_ownership       39717 non-null  object \n",
      " 11  annual_inc           39717 non-null  float64\n",
      " 12  verification_status  39717 non-null  object \n",
      " 13  issue_d              39717 non-null  object \n",
      " 14  loan_status          39717 non-null  object \n",
      " 15  purpose              39717 non-null  object \n",
      " 16  title                39706 non-null  object \n",
      " 17  addr_state           39717 non-null  object \n",
      " 18  dti                  39717 non-null  float64\n",
      " 19  open_acc             39717 non-null  int64  \n",
      " 20  revol_bal            39717 non-null  int64  \n",
      " 21  revol_util           39667 non-null  object \n",
      "dtypes: float64(4), int64(4), object(14)\n",
      "memory usage: 6.7+ MB\n"
     ]
    }
   ],
   "source": [
    "# Information about the DataFrame\n",
    "loan.info()"
   ]
  },
  {
   "cell_type": "code",
   "execution_count": 17,
   "id": "2834ccf2",
   "metadata": {},
   "outputs": [
    {
     "data": {
      "text/html": [
       "<div>\n",
       "<style scoped>\n",
       "    .dataframe tbody tr th:only-of-type {\n",
       "        vertical-align: middle;\n",
       "    }\n",
       "\n",
       "    .dataframe tbody tr th {\n",
       "        vertical-align: top;\n",
       "    }\n",
       "\n",
       "    .dataframe thead th {\n",
       "        text-align: right;\n",
       "    }\n",
       "</style>\n",
       "<table border=\"1\" class=\"dataframe\">\n",
       "  <thead>\n",
       "    <tr style=\"text-align: right;\">\n",
       "      <th></th>\n",
       "      <th>loan_amnt</th>\n",
       "      <th>funded_amnt</th>\n",
       "      <th>funded_amnt_inv</th>\n",
       "      <th>installment</th>\n",
       "      <th>annual_inc</th>\n",
       "      <th>dti</th>\n",
       "      <th>open_acc</th>\n",
       "      <th>revol_bal</th>\n",
       "    </tr>\n",
       "  </thead>\n",
       "  <tbody>\n",
       "    <tr>\n",
       "      <th>count</th>\n",
       "      <td>39717.000000</td>\n",
       "      <td>39717.000000</td>\n",
       "      <td>39717.000000</td>\n",
       "      <td>39717.000000</td>\n",
       "      <td>3.971700e+04</td>\n",
       "      <td>39717.000000</td>\n",
       "      <td>39717.000000</td>\n",
       "      <td>39717.000000</td>\n",
       "    </tr>\n",
       "    <tr>\n",
       "      <th>mean</th>\n",
       "      <td>11219.443815</td>\n",
       "      <td>10947.713196</td>\n",
       "      <td>10397.448868</td>\n",
       "      <td>324.561922</td>\n",
       "      <td>6.896893e+04</td>\n",
       "      <td>13.315130</td>\n",
       "      <td>9.294408</td>\n",
       "      <td>13382.528086</td>\n",
       "    </tr>\n",
       "    <tr>\n",
       "      <th>std</th>\n",
       "      <td>7456.670694</td>\n",
       "      <td>7187.238670</td>\n",
       "      <td>7128.450439</td>\n",
       "      <td>208.874874</td>\n",
       "      <td>6.379377e+04</td>\n",
       "      <td>6.678594</td>\n",
       "      <td>4.400282</td>\n",
       "      <td>15885.016641</td>\n",
       "    </tr>\n",
       "    <tr>\n",
       "      <th>min</th>\n",
       "      <td>500.000000</td>\n",
       "      <td>500.000000</td>\n",
       "      <td>0.000000</td>\n",
       "      <td>15.690000</td>\n",
       "      <td>4.000000e+03</td>\n",
       "      <td>0.000000</td>\n",
       "      <td>2.000000</td>\n",
       "      <td>0.000000</td>\n",
       "    </tr>\n",
       "    <tr>\n",
       "      <th>25%</th>\n",
       "      <td>5500.000000</td>\n",
       "      <td>5400.000000</td>\n",
       "      <td>5000.000000</td>\n",
       "      <td>167.020000</td>\n",
       "      <td>4.040400e+04</td>\n",
       "      <td>8.170000</td>\n",
       "      <td>6.000000</td>\n",
       "      <td>3703.000000</td>\n",
       "    </tr>\n",
       "    <tr>\n",
       "      <th>50%</th>\n",
       "      <td>10000.000000</td>\n",
       "      <td>9600.000000</td>\n",
       "      <td>8975.000000</td>\n",
       "      <td>280.220000</td>\n",
       "      <td>5.900000e+04</td>\n",
       "      <td>13.400000</td>\n",
       "      <td>9.000000</td>\n",
       "      <td>8850.000000</td>\n",
       "    </tr>\n",
       "    <tr>\n",
       "      <th>75%</th>\n",
       "      <td>15000.000000</td>\n",
       "      <td>15000.000000</td>\n",
       "      <td>14400.000000</td>\n",
       "      <td>430.780000</td>\n",
       "      <td>8.230000e+04</td>\n",
       "      <td>18.600000</td>\n",
       "      <td>12.000000</td>\n",
       "      <td>17058.000000</td>\n",
       "    </tr>\n",
       "    <tr>\n",
       "      <th>max</th>\n",
       "      <td>35000.000000</td>\n",
       "      <td>35000.000000</td>\n",
       "      <td>35000.000000</td>\n",
       "      <td>1305.190000</td>\n",
       "      <td>6.000000e+06</td>\n",
       "      <td>29.990000</td>\n",
       "      <td>44.000000</td>\n",
       "      <td>149588.000000</td>\n",
       "    </tr>\n",
       "  </tbody>\n",
       "</table>\n",
       "</div>"
      ],
      "text/plain": [
       "          loan_amnt   funded_amnt  funded_amnt_inv   installment  \\\n",
       "count  39717.000000  39717.000000     39717.000000  39717.000000   \n",
       "mean   11219.443815  10947.713196     10397.448868    324.561922   \n",
       "std     7456.670694   7187.238670      7128.450439    208.874874   \n",
       "min      500.000000    500.000000         0.000000     15.690000   \n",
       "25%     5500.000000   5400.000000      5000.000000    167.020000   \n",
       "50%    10000.000000   9600.000000      8975.000000    280.220000   \n",
       "75%    15000.000000  15000.000000     14400.000000    430.780000   \n",
       "max    35000.000000  35000.000000     35000.000000   1305.190000   \n",
       "\n",
       "         annual_inc           dti      open_acc      revol_bal  \n",
       "count  3.971700e+04  39717.000000  39717.000000   39717.000000  \n",
       "mean   6.896893e+04     13.315130      9.294408   13382.528086  \n",
       "std    6.379377e+04      6.678594      4.400282   15885.016641  \n",
       "min    4.000000e+03      0.000000      2.000000       0.000000  \n",
       "25%    4.040400e+04      8.170000      6.000000    3703.000000  \n",
       "50%    5.900000e+04     13.400000      9.000000    8850.000000  \n",
       "75%    8.230000e+04     18.600000     12.000000   17058.000000  \n",
       "max    6.000000e+06     29.990000     44.000000  149588.000000  "
      ]
     },
     "execution_count": 17,
     "metadata": {},
     "output_type": "execute_result"
    }
   ],
   "source": [
    "# description of the data in the DataFrame\n",
    "loan.describe()"
   ]
  },
  {
   "cell_type": "markdown",
   "id": "aebe6f0f",
   "metadata": {},
   "source": [
    "## 4. Data preparation"
   ]
  },
  {
   "cell_type": "markdown",
   "id": "3ab6dfe5",
   "metadata": {},
   "source": [
    "##### let us start with loan status columns to begin with"
   ]
  },
  {
   "cell_type": "code",
   "execution_count": 18,
   "id": "62832fb6",
   "metadata": {},
   "outputs": [
    {
     "data": {
      "text/plain": [
       "Fully Paid     32950\n",
       "Charged Off     5627\n",
       "Current         1140\n",
       "Name: loan_status, dtype: int64"
      ]
     },
     "execution_count": 18,
     "metadata": {},
     "output_type": "execute_result"
    }
   ],
   "source": [
    "loan['loan_status'].value_counts()"
   ]
  },
  {
   "cell_type": "markdown",
   "id": "63b36b5d",
   "metadata": {},
   "source": [
    "##### Since loan status \"Current\" doesn't give any info for our analysis for approving or rejecting application, so dropping this data makes sense"
   ]
  },
  {
   "cell_type": "code",
   "execution_count": 19,
   "id": "5793899f",
   "metadata": {},
   "outputs": [
    {
     "data": {
      "text/plain": [
       "(38577, 22)"
      ]
     },
     "execution_count": 19,
     "metadata": {},
     "output_type": "execute_result"
    }
   ],
   "source": [
    "loan = loan[~(loan['loan_status'] == 'Current')]\n",
    "loan.shape"
   ]
  },
  {
   "cell_type": "markdown",
   "id": "0d469421",
   "metadata": {},
   "source": [
    "##### Let us look at other columns for our analysis take 'term' and see how it can infulence our decision making"
   ]
  },
  {
   "cell_type": "code",
   "execution_count": 20,
   "id": "63cfbf4d",
   "metadata": {},
   "outputs": [
    {
     "data": {
      "text/plain": [
       " 36 months    29096\n",
       " 60 months     9481\n",
       "Name: term, dtype: int64"
      ]
     },
     "execution_count": 20,
     "metadata": {},
     "output_type": "execute_result"
    }
   ],
   "source": [
    "loan['term'].value_counts()"
   ]
  },
  {
   "cell_type": "code",
   "execution_count": 21,
   "id": "d946f67a",
   "metadata": {},
   "outputs": [
    {
     "data": {
      "text/plain": [
       "0    10.65%\n",
       "1    15.27%\n",
       "2    15.96%\n",
       "3    13.49%\n",
       "5     7.90%\n",
       "Name: int_rate, dtype: object"
      ]
     },
     "execution_count": 21,
     "metadata": {},
     "output_type": "execute_result"
    }
   ],
   "source": [
    "loan['int_rate'].head()"
   ]
  },
  {
   "cell_type": "markdown",
   "id": "3870d46e",
   "metadata": {},
   "source": [
    "##### Let's remove \"%\" in int_rate column"
   ]
  },
  {
   "cell_type": "code",
   "execution_count": 22,
   "id": "4dfea1d5",
   "metadata": {},
   "outputs": [
    {
     "data": {
      "text/plain": [
       "count    38577.000000\n",
       "mean        11.932219\n",
       "std          3.691327\n",
       "min          5.420000\n",
       "25%          8.940000\n",
       "50%         11.710000\n",
       "75%         14.380000\n",
       "max         24.400000\n",
       "Name: int_rate, dtype: float64"
      ]
     },
     "execution_count": 22,
     "metadata": {},
     "output_type": "execute_result"
    }
   ],
   "source": [
    "loan['int_rate'] = loan['int_rate'].apply(lambda x: pd.to_numeric(x.split(\"%\")[0]))\n",
    "loan['int_rate'].describe()"
   ]
  },
  {
   "cell_type": "code",
   "execution_count": 23,
   "id": "fd4b88b5",
   "metadata": {},
   "outputs": [
    {
     "data": {
      "text/plain": [
       "B    11675\n",
       "A    10045\n",
       "C     7834\n",
       "D     5085\n",
       "E     2663\n",
       "F      976\n",
       "G      299\n",
       "Name: grade, dtype: int64"
      ]
     },
     "execution_count": 23,
     "metadata": {},
     "output_type": "execute_result"
    }
   ],
   "source": [
    "loan['grade'].value_counts()"
   ]
  },
  {
   "cell_type": "code",
   "execution_count": 24,
   "id": "e60b8699",
   "metadata": {},
   "outputs": [
    {
     "data": {
      "text/plain": [
       "A4    2873\n",
       "B3    2825\n",
       "A5    2715\n",
       "B5    2615\n",
       "B4    2437\n",
       "C1    2055\n",
       "B2    2001\n",
       "C2    1931\n",
       "A3    1810\n",
       "B1    1797\n",
       "A2    1508\n",
       "C3    1488\n",
       "D2    1286\n",
       "C4    1206\n",
       "C5    1154\n",
       "A1    1139\n",
       "D3    1116\n",
       "D1     931\n",
       "D4     918\n",
       "D5     834\n",
       "E1     722\n",
       "E2     614\n",
       "E3     516\n",
       "E4     424\n",
       "E5     387\n",
       "F1     305\n",
       "F2     233\n",
       "F3     174\n",
       "F4     151\n",
       "F5     113\n",
       "G1      94\n",
       "G2      77\n",
       "G4      54\n",
       "G3      45\n",
       "G5      29\n",
       "Name: sub_grade, dtype: int64"
      ]
     },
     "execution_count": 24,
     "metadata": {},
     "output_type": "execute_result"
    }
   ],
   "source": [
    "loan['sub_grade'].value_counts()"
   ]
  },
  {
   "cell_type": "code",
   "execution_count": 25,
   "id": "8e1eb2cf",
   "metadata": {},
   "outputs": [
    {
     "name": "stdout",
     "output_type": "stream",
     "text": [
      "US Army              131\n",
      "Bank of America      107\n",
      "IBM                   65\n",
      "AT&T                  57\n",
      "Kaiser Permanente     56\n",
      "Name: emp_title, dtype: int64\n",
      "(28028,)\n"
     ]
    }
   ],
   "source": [
    "print(loan['emp_title'].value_counts().head())\n",
    "print(loan['emp_title'].unique().shape)\n"
   ]
  },
  {
   "cell_type": "code",
   "execution_count": 26,
   "id": "9cf608e4",
   "metadata": {},
   "outputs": [
    {
     "data": {
      "text/plain": [
       "array(['10+ years', '< 1 year', '3 years', '8 years', '9 years',\n",
       "       '4 years', '5 years', '1 year', '6 years', '2 years', '7 years',\n",
       "       nan], dtype=object)"
      ]
     },
     "execution_count": 26,
     "metadata": {},
     "output_type": "execute_result"
    }
   ],
   "source": [
    "# Checking the unique values in the emp_length column\n",
    "loan['emp_length'].unique()"
   ]
  },
  {
   "cell_type": "code",
   "execution_count": 27,
   "id": "2607b38f",
   "metadata": {},
   "outputs": [
    {
     "data": {
      "text/plain": [
       "1033"
      ]
     },
     "execution_count": 27,
     "metadata": {},
     "output_type": "execute_result"
    }
   ],
   "source": [
    "# Checking the null counts in emp_length column\n",
    "loan['emp_length'].isnull().sum()"
   ]
  },
  {
   "cell_type": "code",
   "execution_count": 28,
   "id": "c9c38826",
   "metadata": {},
   "outputs": [],
   "source": [
    "#Considering only non-null rows\n",
    "loan = loan[loan.emp_length.notnull()]"
   ]
  },
  {
   "cell_type": "code",
   "execution_count": 29,
   "id": "00a3b9f0",
   "metadata": {},
   "outputs": [
    {
     "name": "stdout",
     "output_type": "stream",
     "text": [
      "<class 'pandas.core.frame.DataFrame'>\n",
      "Int64Index: 37544 entries, 0 to 39716\n",
      "Data columns (total 22 columns):\n",
      " #   Column               Non-Null Count  Dtype  \n",
      "---  ------               --------------  -----  \n",
      " 0   loan_amnt            37544 non-null  int64  \n",
      " 1   funded_amnt          37544 non-null  int64  \n",
      " 2   funded_amnt_inv      37544 non-null  float64\n",
      " 3   term                 37544 non-null  object \n",
      " 4   int_rate             37544 non-null  float64\n",
      " 5   installment          37544 non-null  float64\n",
      " 6   grade                37544 non-null  object \n",
      " 7   sub_grade            37544 non-null  object \n",
      " 8   emp_title            36136 non-null  object \n",
      " 9   emp_length           37544 non-null  object \n",
      " 10  home_ownership       37544 non-null  object \n",
      " 11  annual_inc           37544 non-null  float64\n",
      " 12  verification_status  37544 non-null  object \n",
      " 13  issue_d              37544 non-null  object \n",
      " 14  loan_status          37544 non-null  object \n",
      " 15  purpose              37544 non-null  object \n",
      " 16  title                37534 non-null  object \n",
      " 17  addr_state           37544 non-null  object \n",
      " 18  dti                  37544 non-null  float64\n",
      " 19  open_acc             37544 non-null  int64  \n",
      " 20  revol_bal            37544 non-null  int64  \n",
      " 21  revol_util           37497 non-null  object \n",
      "dtypes: float64(5), int64(4), object(13)\n",
      "memory usage: 6.6+ MB\n"
     ]
    }
   ],
   "source": [
    "loan.info()"
   ]
  },
  {
   "cell_type": "markdown",
   "id": "627db41b-45fa-4752-8334-741cc58a8e27",
   "metadata": {},
   "source": [
    "##### There are 1033 rows that has no values for emp_length. When we compare to the total number of rows in the data file, 1033 rows doesn't affect the analysis.So, we can safely remove these rows."
   ]
  },
  {
   "cell_type": "code",
   "execution_count": 30,
   "id": "7677829e",
   "metadata": {},
   "outputs": [
    {
     "data": {
      "text/plain": [
       "Index(['loan_amnt', 'funded_amnt', 'funded_amnt_inv', 'term', 'int_rate',\n",
       "       'installment', 'grade', 'sub_grade', 'emp_title', 'emp_length',\n",
       "       'home_ownership', 'annual_inc', 'verification_status', 'issue_d',\n",
       "       'loan_status', 'purpose', 'title', 'addr_state', 'dti', 'open_acc',\n",
       "       'revol_bal', 'revol_util'],\n",
       "      dtype='object')"
      ]
     },
     "execution_count": 30,
     "metadata": {},
     "output_type": "execute_result"
    }
   ],
   "source": [
    "loan.columns"
   ]
  },
  {
   "cell_type": "code",
   "execution_count": 31,
   "id": "06cb546c",
   "metadata": {},
   "outputs": [
    {
     "data": {
      "text/plain": [
       "RENT        18078\n",
       "MORTGAGE    16595\n",
       "OWN          2770\n",
       "OTHER          98\n",
       "NONE            3\n",
       "Name: home_ownership, dtype: int64"
      ]
     },
     "execution_count": 31,
     "metadata": {},
     "output_type": "execute_result"
    }
   ],
   "source": [
    "loan['home_ownership'].value_counts()"
   ]
  },
  {
   "cell_type": "markdown",
   "id": "13b4cb78-1c45-458d-8243-e3c62472973f",
   "metadata": {},
   "source": [
    "#### There are only 3 rows where home_ownership is NONE. Compared to other categories the percentage of NONE category is very minimal and it doesn't affect our analysis. "
   ]
  },
  {
   "cell_type": "code",
   "execution_count": 32,
   "id": "d7e09f23-64aa-4ec1-ae35-b7a19bb1562f",
   "metadata": {},
   "outputs": [],
   "source": [
    "loan = loan[loan.home_ownership != 'NONE']"
   ]
  },
  {
   "cell_type": "code",
   "execution_count": 33,
   "id": "9d031e9c",
   "metadata": {},
   "outputs": [
    {
     "data": {
      "text/plain": [
       "Not Verified       16275\n",
       "Verified           11772\n",
       "Source Verified     9494\n",
       "Name: verification_status, dtype: int64"
      ]
     },
     "execution_count": 33,
     "metadata": {},
     "output_type": "execute_result"
    }
   ],
   "source": [
    "loan['verification_status'].value_counts()"
   ]
  },
  {
   "cell_type": "code",
   "execution_count": 34,
   "id": "cd5f512d",
   "metadata": {},
   "outputs": [
    {
     "data": {
      "text/plain": [
       "0    Dec-11\n",
       "1    Dec-11\n",
       "2    Dec-11\n",
       "3    Dec-11\n",
       "5    Dec-11\n",
       "Name: issue_d, dtype: object"
      ]
     },
     "execution_count": 34,
     "metadata": {},
     "output_type": "execute_result"
    }
   ],
   "source": [
    "loan['issue_d'].head()"
   ]
  },
  {
   "cell_type": "markdown",
   "id": "d1488612",
   "metadata": {},
   "source": [
    "##### Let's split the month and year for better analysis."
   ]
  },
  {
   "cell_type": "code",
   "execution_count": 35,
   "id": "f2082baa",
   "metadata": {},
   "outputs": [],
   "source": [
    "month, year = loan['issue_d'].str.split('-').str"
   ]
  },
  {
   "cell_type": "code",
   "execution_count": 36,
   "id": "a7a73bdc",
   "metadata": {},
   "outputs": [
    {
     "data": {
      "text/plain": [
       "11    19801\n",
       "10    11214\n",
       "09     4716\n",
       "08     1561\n",
       "07      249\n",
       "Name: issue_d, dtype: int64"
      ]
     },
     "execution_count": 36,
     "metadata": {},
     "output_type": "execute_result"
    }
   ],
   "source": [
    "year.value_counts()"
   ]
  },
  {
   "cell_type": "code",
   "execution_count": 37,
   "id": "61f63df1",
   "metadata": {},
   "outputs": [
    {
     "data": {
      "text/plain": [
       "Dec    4120\n",
       "Nov    3890\n",
       "Oct    3637\n",
       "Sep    3394\n",
       "Aug    3319\n",
       "Jul    3253\n",
       "Jun    3094\n",
       "May    2838\n",
       "Apr    2756\n",
       "Mar    2632\n",
       "Jan    2330\n",
       "Feb    2278\n",
       "Name: issue_d, dtype: int64"
      ]
     },
     "execution_count": 37,
     "metadata": {},
     "output_type": "execute_result"
    }
   ],
   "source": [
    "month.value_counts()"
   ]
  },
  {
   "cell_type": "markdown",
   "id": "9d45d42c",
   "metadata": {},
   "source": [
    "##### Let us create new dervied columns like issued_year and issued_month which will be useful for our further analysis and drop the column issue_d."
   ]
  },
  {
   "cell_type": "code",
   "execution_count": 38,
   "id": "348337bf",
   "metadata": {},
   "outputs": [],
   "source": [
    "loan['issue_y'] = pd.to_numeric(year)\n",
    "loan['issue_m'] = month\n",
    "loan.drop(columns=['issue_d'], inplace=True)"
   ]
  },
  {
   "cell_type": "code",
   "execution_count": 39,
   "id": "99861e91",
   "metadata": {},
   "outputs": [],
   "source": [
    "pd.set_option('display.max_columns', None)"
   ]
  },
  {
   "cell_type": "code",
   "execution_count": 40,
   "id": "545d5c1e",
   "metadata": {},
   "outputs": [
    {
     "data": {
      "text/html": [
       "<div>\n",
       "<style scoped>\n",
       "    .dataframe tbody tr th:only-of-type {\n",
       "        vertical-align: middle;\n",
       "    }\n",
       "\n",
       "    .dataframe tbody tr th {\n",
       "        vertical-align: top;\n",
       "    }\n",
       "\n",
       "    .dataframe thead th {\n",
       "        text-align: right;\n",
       "    }\n",
       "</style>\n",
       "<table border=\"1\" class=\"dataframe\">\n",
       "  <thead>\n",
       "    <tr style=\"text-align: right;\">\n",
       "      <th></th>\n",
       "      <th>loan_amnt</th>\n",
       "      <th>funded_amnt</th>\n",
       "      <th>funded_amnt_inv</th>\n",
       "      <th>term</th>\n",
       "      <th>int_rate</th>\n",
       "      <th>installment</th>\n",
       "      <th>grade</th>\n",
       "      <th>sub_grade</th>\n",
       "      <th>emp_title</th>\n",
       "      <th>emp_length</th>\n",
       "      <th>home_ownership</th>\n",
       "      <th>annual_inc</th>\n",
       "      <th>verification_status</th>\n",
       "      <th>loan_status</th>\n",
       "      <th>purpose</th>\n",
       "      <th>title</th>\n",
       "      <th>addr_state</th>\n",
       "      <th>dti</th>\n",
       "      <th>open_acc</th>\n",
       "      <th>revol_bal</th>\n",
       "      <th>revol_util</th>\n",
       "      <th>issue_y</th>\n",
       "      <th>issue_m</th>\n",
       "    </tr>\n",
       "  </thead>\n",
       "  <tbody>\n",
       "    <tr>\n",
       "      <th>0</th>\n",
       "      <td>5000</td>\n",
       "      <td>5000</td>\n",
       "      <td>4975.0</td>\n",
       "      <td>36 months</td>\n",
       "      <td>10.65</td>\n",
       "      <td>162.87</td>\n",
       "      <td>B</td>\n",
       "      <td>B2</td>\n",
       "      <td>NaN</td>\n",
       "      <td>10+ years</td>\n",
       "      <td>RENT</td>\n",
       "      <td>24000.0</td>\n",
       "      <td>Verified</td>\n",
       "      <td>Fully Paid</td>\n",
       "      <td>credit_card</td>\n",
       "      <td>Computer</td>\n",
       "      <td>AZ</td>\n",
       "      <td>27.65</td>\n",
       "      <td>3</td>\n",
       "      <td>13648</td>\n",
       "      <td>83.70%</td>\n",
       "      <td>11</td>\n",
       "      <td>Dec</td>\n",
       "    </tr>\n",
       "    <tr>\n",
       "      <th>1</th>\n",
       "      <td>2500</td>\n",
       "      <td>2500</td>\n",
       "      <td>2500.0</td>\n",
       "      <td>60 months</td>\n",
       "      <td>15.27</td>\n",
       "      <td>59.83</td>\n",
       "      <td>C</td>\n",
       "      <td>C4</td>\n",
       "      <td>Ryder</td>\n",
       "      <td>&lt; 1 year</td>\n",
       "      <td>RENT</td>\n",
       "      <td>30000.0</td>\n",
       "      <td>Source Verified</td>\n",
       "      <td>Charged Off</td>\n",
       "      <td>car</td>\n",
       "      <td>bike</td>\n",
       "      <td>GA</td>\n",
       "      <td>1.00</td>\n",
       "      <td>3</td>\n",
       "      <td>1687</td>\n",
       "      <td>9.40%</td>\n",
       "      <td>11</td>\n",
       "      <td>Dec</td>\n",
       "    </tr>\n",
       "    <tr>\n",
       "      <th>2</th>\n",
       "      <td>2400</td>\n",
       "      <td>2400</td>\n",
       "      <td>2400.0</td>\n",
       "      <td>36 months</td>\n",
       "      <td>15.96</td>\n",
       "      <td>84.33</td>\n",
       "      <td>C</td>\n",
       "      <td>C5</td>\n",
       "      <td>NaN</td>\n",
       "      <td>10+ years</td>\n",
       "      <td>RENT</td>\n",
       "      <td>12252.0</td>\n",
       "      <td>Not Verified</td>\n",
       "      <td>Fully Paid</td>\n",
       "      <td>small_business</td>\n",
       "      <td>real estate business</td>\n",
       "      <td>IL</td>\n",
       "      <td>8.72</td>\n",
       "      <td>2</td>\n",
       "      <td>2956</td>\n",
       "      <td>98.50%</td>\n",
       "      <td>11</td>\n",
       "      <td>Dec</td>\n",
       "    </tr>\n",
       "    <tr>\n",
       "      <th>3</th>\n",
       "      <td>10000</td>\n",
       "      <td>10000</td>\n",
       "      <td>10000.0</td>\n",
       "      <td>36 months</td>\n",
       "      <td>13.49</td>\n",
       "      <td>339.31</td>\n",
       "      <td>C</td>\n",
       "      <td>C1</td>\n",
       "      <td>AIR RESOURCES BOARD</td>\n",
       "      <td>10+ years</td>\n",
       "      <td>RENT</td>\n",
       "      <td>49200.0</td>\n",
       "      <td>Source Verified</td>\n",
       "      <td>Fully Paid</td>\n",
       "      <td>other</td>\n",
       "      <td>personel</td>\n",
       "      <td>CA</td>\n",
       "      <td>20.00</td>\n",
       "      <td>10</td>\n",
       "      <td>5598</td>\n",
       "      <td>21%</td>\n",
       "      <td>11</td>\n",
       "      <td>Dec</td>\n",
       "    </tr>\n",
       "    <tr>\n",
       "      <th>5</th>\n",
       "      <td>5000</td>\n",
       "      <td>5000</td>\n",
       "      <td>5000.0</td>\n",
       "      <td>36 months</td>\n",
       "      <td>7.90</td>\n",
       "      <td>156.46</td>\n",
       "      <td>A</td>\n",
       "      <td>A4</td>\n",
       "      <td>Veolia Transportaton</td>\n",
       "      <td>3 years</td>\n",
       "      <td>RENT</td>\n",
       "      <td>36000.0</td>\n",
       "      <td>Source Verified</td>\n",
       "      <td>Fully Paid</td>\n",
       "      <td>wedding</td>\n",
       "      <td>My wedding loan I promise to pay back</td>\n",
       "      <td>AZ</td>\n",
       "      <td>11.20</td>\n",
       "      <td>9</td>\n",
       "      <td>7963</td>\n",
       "      <td>28.30%</td>\n",
       "      <td>11</td>\n",
       "      <td>Dec</td>\n",
       "    </tr>\n",
       "  </tbody>\n",
       "</table>\n",
       "</div>"
      ],
      "text/plain": [
       "   loan_amnt  funded_amnt  funded_amnt_inv        term  int_rate  installment  \\\n",
       "0       5000         5000           4975.0   36 months     10.65       162.87   \n",
       "1       2500         2500           2500.0   60 months     15.27        59.83   \n",
       "2       2400         2400           2400.0   36 months     15.96        84.33   \n",
       "3      10000        10000          10000.0   36 months     13.49       339.31   \n",
       "5       5000         5000           5000.0   36 months      7.90       156.46   \n",
       "\n",
       "  grade sub_grade             emp_title emp_length home_ownership  annual_inc  \\\n",
       "0     B        B2                   NaN  10+ years           RENT     24000.0   \n",
       "1     C        C4                 Ryder   < 1 year           RENT     30000.0   \n",
       "2     C        C5                   NaN  10+ years           RENT     12252.0   \n",
       "3     C        C1   AIR RESOURCES BOARD  10+ years           RENT     49200.0   \n",
       "5     A        A4  Veolia Transportaton    3 years           RENT     36000.0   \n",
       "\n",
       "  verification_status  loan_status         purpose  \\\n",
       "0            Verified   Fully Paid     credit_card   \n",
       "1     Source Verified  Charged Off             car   \n",
       "2        Not Verified   Fully Paid  small_business   \n",
       "3     Source Verified   Fully Paid           other   \n",
       "5     Source Verified   Fully Paid         wedding   \n",
       "\n",
       "                                   title addr_state    dti  open_acc  \\\n",
       "0                               Computer         AZ  27.65         3   \n",
       "1                                   bike         GA   1.00         3   \n",
       "2                   real estate business         IL   8.72         2   \n",
       "3                               personel         CA  20.00        10   \n",
       "5  My wedding loan I promise to pay back         AZ  11.20         9   \n",
       "\n",
       "   revol_bal revol_util  issue_y issue_m  \n",
       "0      13648     83.70%       11     Dec  \n",
       "1       1687      9.40%       11     Dec  \n",
       "2       2956     98.50%       11     Dec  \n",
       "3       5598        21%       11     Dec  \n",
       "5       7963     28.30%       11     Dec  "
      ]
     },
     "execution_count": 40,
     "metadata": {},
     "output_type": "execute_result"
    }
   ],
   "source": [
    "loan.head()"
   ]
  },
  {
   "cell_type": "code",
   "execution_count": 41,
   "id": "8d0d34e6",
   "metadata": {},
   "outputs": [
    {
     "data": {
      "text/plain": [
       "debt_consolidation    17674\n",
       "credit_card            4899\n",
       "other                  3711\n",
       "home_improvement       2785\n",
       "major_purchase         2080\n",
       "small_business         1710\n",
       "car                    1448\n",
       "wedding                 913\n",
       "medical                 656\n",
       "moving                  552\n",
       "house                   354\n",
       "vacation                348\n",
       "educational             317\n",
       "renewable_energy         94\n",
       "Name: purpose, dtype: int64"
      ]
     },
     "execution_count": 41,
     "metadata": {},
     "output_type": "execute_result"
    }
   ],
   "source": [
    "loan['purpose'].value_counts()"
   ]
  },
  {
   "cell_type": "code",
   "execution_count": 42,
   "id": "b85b4713",
   "metadata": {},
   "outputs": [
    {
     "data": {
      "text/plain": [
       "18845"
      ]
     },
     "execution_count": 42,
     "metadata": {},
     "output_type": "execute_result"
    }
   ],
   "source": [
    "len(loan['title'].value_counts())"
   ]
  },
  {
   "cell_type": "code",
   "execution_count": 43,
   "id": "ebdaef62",
   "metadata": {},
   "outputs": [
    {
     "data": {
      "text/plain": [
       "0                                  Computer\n",
       "1                                      bike\n",
       "2                      real estate business\n",
       "3                                  personel\n",
       "5     My wedding loan I promise to pay back\n",
       "6                                      Loan\n",
       "7                           Car Downpayment\n",
       "8      Expand Business & Buy Debt Portfolio\n",
       "9               Building my credit history.\n",
       "10               High intrest Consolidation\n",
       "Name: title, dtype: object"
      ]
     },
     "execution_count": 43,
     "metadata": {},
     "output_type": "execute_result"
    }
   ],
   "source": [
    "loan['title'].head(10)"
   ]
  },
  {
   "cell_type": "code",
   "execution_count": 44,
   "id": "7dcc0494",
   "metadata": {},
   "outputs": [
    {
     "data": {
      "text/plain": [
       "18845"
      ]
     },
     "execution_count": 44,
     "metadata": {},
     "output_type": "execute_result"
    }
   ],
   "source": [
    "loan['title'].nunique()"
   ]
  },
  {
   "cell_type": "markdown",
   "id": "afa21bf1",
   "metadata": {},
   "source": [
    "##### Since title column has too many unique values. We don't think we can make any insights out of it. So, let's drop the column title."
   ]
  },
  {
   "cell_type": "code",
   "execution_count": 45,
   "id": "9b4a3a20",
   "metadata": {},
   "outputs": [],
   "source": [
    "loan.drop(columns=['title'], inplace=True)"
   ]
  },
  {
   "cell_type": "code",
   "execution_count": 46,
   "id": "e64e16a2",
   "metadata": {},
   "outputs": [
    {
     "data": {
      "text/plain": [
       "CA    6767\n",
       "NY    3599\n",
       "FL    2694\n",
       "TX    2605\n",
       "NJ    1768\n",
       "IL    1442\n",
       "PA    1437\n",
       "VA    1339\n",
       "GA    1319\n",
       "MA    1267\n",
       "OH    1146\n",
       "MD    1005\n",
       "AZ     806\n",
       "WA     783\n",
       "CO     744\n",
       "NC     726\n",
       "CT     707\n",
       "MI     671\n",
       "MO     647\n",
       "MN     583\n",
       "NV     464\n",
       "SC     451\n",
       "WI     426\n",
       "OR     421\n",
       "AL     418\n",
       "LA     417\n",
       "KY     307\n",
       "OK     282\n",
       "UT     247\n",
       "KS     244\n",
       "AR     227\n",
       "DC     211\n",
       "RI     192\n",
       "NM     179\n",
       "WV     164\n",
       "HI     162\n",
       "NH     157\n",
       "DE     110\n",
       "MT      77\n",
       "AK      76\n",
       "WY      76\n",
       "SD      61\n",
       "VT      53\n",
       "MS      19\n",
       "TN      17\n",
       "IN       9\n",
       "ID       6\n",
       "IA       5\n",
       "NE       5\n",
       "ME       3\n",
       "Name: addr_state, dtype: int64"
      ]
     },
     "execution_count": 46,
     "metadata": {},
     "output_type": "execute_result"
    }
   ],
   "source": [
    "loan['addr_state'].value_counts()"
   ]
  },
  {
   "cell_type": "markdown",
   "id": "f1f5dfd5-7960-411b-8252-9db9ea473f63",
   "metadata": {},
   "source": [
    "##### From the above result it's clearly showing that CA, NY, FL are the top 3 states where customers are more."
   ]
  },
  {
   "cell_type": "code",
   "execution_count": 47,
   "id": "ea2b8972",
   "metadata": {
    "scrolled": true
   },
   "outputs": [
    {
     "data": {
      "text/plain": [
       "0    83.70%\n",
       "1     9.40%\n",
       "2    98.50%\n",
       "3       21%\n",
       "5    28.30%\n",
       "Name: revol_util, dtype: object"
      ]
     },
     "execution_count": 47,
     "metadata": {},
     "output_type": "execute_result"
    }
   ],
   "source": [
    "loan['revol_util'].head()"
   ]
  },
  {
   "cell_type": "code",
   "execution_count": 48,
   "id": "f2277ccc",
   "metadata": {},
   "outputs": [
    {
     "data": {
      "text/plain": [
       "count    37494.000000\n",
       "mean        48.864625\n",
       "std         28.340782\n",
       "min          0.000000\n",
       "25%         25.425000\n",
       "50%         49.300000\n",
       "75%         72.400000\n",
       "max         99.900000\n",
       "Name: revol_util, dtype: float64"
      ]
     },
     "execution_count": 48,
     "metadata": {},
     "output_type": "execute_result"
    }
   ],
   "source": [
    "#let us convert these values in numberics by removing %\n",
    "loan['revol_util'] = pd.Series(loan['revol_util']).str.replace('%', '').astype(float)\n",
    "loan['revol_util'].describe()"
   ]
  },
  {
   "cell_type": "markdown",
   "id": "10fe6322-b913-4009-8aa2-fd63d1ef5d49",
   "metadata": {},
   "source": [
    "##### It looks like 50% of the borrowers using 49% of the revolving utliziation."
   ]
  },
  {
   "cell_type": "code",
   "execution_count": 49,
   "id": "5ae7993d",
   "metadata": {},
   "outputs": [
    {
     "name": "stdout",
     "output_type": "stream",
     "text": [
      "<class 'pandas.core.frame.DataFrame'>\n",
      "Int64Index: 37541 entries, 0 to 39716\n",
      "Data columns (total 22 columns):\n",
      " #   Column               Non-Null Count  Dtype  \n",
      "---  ------               --------------  -----  \n",
      " 0   loan_amnt            37541 non-null  int64  \n",
      " 1   funded_amnt          37541 non-null  int64  \n",
      " 2   funded_amnt_inv      37541 non-null  float64\n",
      " 3   term                 37541 non-null  object \n",
      " 4   int_rate             37541 non-null  float64\n",
      " 5   installment          37541 non-null  float64\n",
      " 6   grade                37541 non-null  object \n",
      " 7   sub_grade            37541 non-null  object \n",
      " 8   emp_title            36135 non-null  object \n",
      " 9   emp_length           37541 non-null  object \n",
      " 10  home_ownership       37541 non-null  object \n",
      " 11  annual_inc           37541 non-null  float64\n",
      " 12  verification_status  37541 non-null  object \n",
      " 13  loan_status          37541 non-null  object \n",
      " 14  purpose              37541 non-null  object \n",
      " 15  addr_state           37541 non-null  object \n",
      " 16  dti                  37541 non-null  float64\n",
      " 17  open_acc             37541 non-null  int64  \n",
      " 18  revol_bal            37541 non-null  int64  \n",
      " 19  revol_util           37494 non-null  float64\n",
      " 20  issue_y              37541 non-null  int64  \n",
      " 21  issue_m              37541 non-null  object \n",
      "dtypes: float64(6), int64(5), object(11)\n",
      "memory usage: 6.6+ MB\n"
     ]
    }
   ],
   "source": [
    "loan.info()"
   ]
  },
  {
   "cell_type": "code",
   "execution_count": 50,
   "id": "c448c3a7",
   "metadata": {},
   "outputs": [
    {
     "data": {
      "text/plain": [
       "(37541, 22)"
      ]
     },
     "execution_count": 50,
     "metadata": {},
     "output_type": "execute_result"
    }
   ],
   "source": [
    "loan.shape"
   ]
  },
  {
   "cell_type": "code",
   "execution_count": 51,
   "id": "2b21d541",
   "metadata": {},
   "outputs": [
    {
     "data": {
      "text/html": [
       "<div>\n",
       "<style scoped>\n",
       "    .dataframe tbody tr th:only-of-type {\n",
       "        vertical-align: middle;\n",
       "    }\n",
       "\n",
       "    .dataframe tbody tr th {\n",
       "        vertical-align: top;\n",
       "    }\n",
       "\n",
       "    .dataframe thead th {\n",
       "        text-align: right;\n",
       "    }\n",
       "</style>\n",
       "<table border=\"1\" class=\"dataframe\">\n",
       "  <thead>\n",
       "    <tr style=\"text-align: right;\">\n",
       "      <th></th>\n",
       "      <th>loan_amnt</th>\n",
       "      <th>funded_amnt</th>\n",
       "      <th>funded_amnt_inv</th>\n",
       "      <th>int_rate</th>\n",
       "      <th>installment</th>\n",
       "      <th>annual_inc</th>\n",
       "      <th>dti</th>\n",
       "      <th>open_acc</th>\n",
       "      <th>revol_bal</th>\n",
       "      <th>revol_util</th>\n",
       "      <th>issue_y</th>\n",
       "    </tr>\n",
       "  </thead>\n",
       "  <tbody>\n",
       "    <tr>\n",
       "      <th>count</th>\n",
       "      <td>37541.000000</td>\n",
       "      <td>37541.000000</td>\n",
       "      <td>37541.000000</td>\n",
       "      <td>37541.000000</td>\n",
       "      <td>37541.000000</td>\n",
       "      <td>3.754100e+04</td>\n",
       "      <td>37541.000000</td>\n",
       "      <td>37541.000000</td>\n",
       "      <td>37541.000000</td>\n",
       "      <td>37494.000000</td>\n",
       "      <td>37541.000000</td>\n",
       "    </tr>\n",
       "    <tr>\n",
       "      <th>mean</th>\n",
       "      <td>11119.771050</td>\n",
       "      <td>10853.980315</td>\n",
       "      <td>10281.190004</td>\n",
       "      <td>11.963580</td>\n",
       "      <td>324.662009</td>\n",
       "      <td>6.940618e+04</td>\n",
       "      <td>13.284309</td>\n",
       "      <td>9.298660</td>\n",
       "      <td>13364.209051</td>\n",
       "      <td>48.864625</td>\n",
       "      <td>10.298767</td>\n",
       "    </tr>\n",
       "    <tr>\n",
       "      <th>std</th>\n",
       "      <td>7354.173376</td>\n",
       "      <td>7096.389049</td>\n",
       "      <td>7033.976024</td>\n",
       "      <td>3.683037</td>\n",
       "      <td>208.903386</td>\n",
       "      <td>6.467839e+04</td>\n",
       "      <td>6.660676</td>\n",
       "      <td>4.396339</td>\n",
       "      <td>15895.498352</td>\n",
       "      <td>28.340782</td>\n",
       "      <td>0.888736</td>\n",
       "    </tr>\n",
       "    <tr>\n",
       "      <th>min</th>\n",
       "      <td>500.000000</td>\n",
       "      <td>500.000000</td>\n",
       "      <td>0.000000</td>\n",
       "      <td>5.420000</td>\n",
       "      <td>15.690000</td>\n",
       "      <td>4.000000e+03</td>\n",
       "      <td>0.000000</td>\n",
       "      <td>2.000000</td>\n",
       "      <td>0.000000</td>\n",
       "      <td>0.000000</td>\n",
       "      <td>7.000000</td>\n",
       "    </tr>\n",
       "    <tr>\n",
       "      <th>25%</th>\n",
       "      <td>5500.000000</td>\n",
       "      <td>5400.000000</td>\n",
       "      <td>5000.000000</td>\n",
       "      <td>8.940000</td>\n",
       "      <td>167.380000</td>\n",
       "      <td>4.100000e+04</td>\n",
       "      <td>8.160000</td>\n",
       "      <td>6.000000</td>\n",
       "      <td>3693.000000</td>\n",
       "      <td>25.425000</td>\n",
       "      <td>10.000000</td>\n",
       "    </tr>\n",
       "    <tr>\n",
       "      <th>50%</th>\n",
       "      <td>10000.000000</td>\n",
       "      <td>9600.000000</td>\n",
       "      <td>8850.000000</td>\n",
       "      <td>11.830000</td>\n",
       "      <td>280.000000</td>\n",
       "      <td>6.000000e+04</td>\n",
       "      <td>13.380000</td>\n",
       "      <td>9.000000</td>\n",
       "      <td>8841.000000</td>\n",
       "      <td>49.300000</td>\n",
       "      <td>11.000000</td>\n",
       "    </tr>\n",
       "    <tr>\n",
       "      <th>75%</th>\n",
       "      <td>15000.000000</td>\n",
       "      <td>15000.000000</td>\n",
       "      <td>14075.000000</td>\n",
       "      <td>14.420000</td>\n",
       "      <td>429.040000</td>\n",
       "      <td>8.300000e+04</td>\n",
       "      <td>18.550000</td>\n",
       "      <td>12.000000</td>\n",
       "      <td>17009.000000</td>\n",
       "      <td>72.400000</td>\n",
       "      <td>11.000000</td>\n",
       "    </tr>\n",
       "    <tr>\n",
       "      <th>max</th>\n",
       "      <td>35000.000000</td>\n",
       "      <td>35000.000000</td>\n",
       "      <td>35000.000000</td>\n",
       "      <td>24.400000</td>\n",
       "      <td>1305.190000</td>\n",
       "      <td>6.000000e+06</td>\n",
       "      <td>29.990000</td>\n",
       "      <td>44.000000</td>\n",
       "      <td>149588.000000</td>\n",
       "      <td>99.900000</td>\n",
       "      <td>11.000000</td>\n",
       "    </tr>\n",
       "  </tbody>\n",
       "</table>\n",
       "</div>"
      ],
      "text/plain": [
       "          loan_amnt   funded_amnt  funded_amnt_inv      int_rate  \\\n",
       "count  37541.000000  37541.000000     37541.000000  37541.000000   \n",
       "mean   11119.771050  10853.980315     10281.190004     11.963580   \n",
       "std     7354.173376   7096.389049      7033.976024      3.683037   \n",
       "min      500.000000    500.000000         0.000000      5.420000   \n",
       "25%     5500.000000   5400.000000      5000.000000      8.940000   \n",
       "50%    10000.000000   9600.000000      8850.000000     11.830000   \n",
       "75%    15000.000000  15000.000000     14075.000000     14.420000   \n",
       "max    35000.000000  35000.000000     35000.000000     24.400000   \n",
       "\n",
       "        installment    annual_inc           dti      open_acc      revol_bal  \\\n",
       "count  37541.000000  3.754100e+04  37541.000000  37541.000000   37541.000000   \n",
       "mean     324.662009  6.940618e+04     13.284309      9.298660   13364.209051   \n",
       "std      208.903386  6.467839e+04      6.660676      4.396339   15895.498352   \n",
       "min       15.690000  4.000000e+03      0.000000      2.000000       0.000000   \n",
       "25%      167.380000  4.100000e+04      8.160000      6.000000    3693.000000   \n",
       "50%      280.000000  6.000000e+04     13.380000      9.000000    8841.000000   \n",
       "75%      429.040000  8.300000e+04     18.550000     12.000000   17009.000000   \n",
       "max     1305.190000  6.000000e+06     29.990000     44.000000  149588.000000   \n",
       "\n",
       "         revol_util       issue_y  \n",
       "count  37494.000000  37541.000000  \n",
       "mean      48.864625     10.298767  \n",
       "std       28.340782      0.888736  \n",
       "min        0.000000      7.000000  \n",
       "25%       25.425000     10.000000  \n",
       "50%       49.300000     11.000000  \n",
       "75%       72.400000     11.000000  \n",
       "max       99.900000     11.000000  "
      ]
     },
     "execution_count": 51,
     "metadata": {},
     "output_type": "execute_result"
    }
   ],
   "source": [
    "loan.describe()"
   ]
  },
  {
   "cell_type": "markdown",
   "id": "d0ec8696",
   "metadata": {},
   "source": [
    "Let us now take the percentage of loans Fully paid vs charged off for all the records before going into further analysis"
   ]
  },
  {
   "cell_type": "code",
   "execution_count": 52,
   "id": "d58868f7",
   "metadata": {},
   "outputs": [
    {
     "data": {
      "text/plain": [
       "Fully Paid     0.856184\n",
       "Charged Off    0.143816\n",
       "Name: loan_status, dtype: float64"
      ]
     },
     "execution_count": 52,
     "metadata": {},
     "output_type": "execute_result"
    }
   ],
   "source": [
    "loan_status_percent = loan['loan_status'].value_counts(normalize=True)\n",
    "loan_status_percent"
   ]
  },
  {
   "cell_type": "markdown",
   "id": "e9dc1113-b048-4a82-8fa9-abd805cf3e0e",
   "metadata": {},
   "source": [
    "##### There are about 85% fully paid and 15% Charged Off borrowers."
   ]
  },
  {
   "cell_type": "markdown",
   "id": "72a18aa1",
   "metadata": {},
   "source": [
    "#### Drop Duplicate Rows"
   ]
  },
  {
   "cell_type": "code",
   "execution_count": 53,
   "id": "2be0c4a8",
   "metadata": {},
   "outputs": [
    {
     "name": "stdout",
     "output_type": "stream",
     "text": [
      "Before dropping duplicate rows:  (37541, 22)\n",
      "After dropping duplicate rows:  (37541, 22)\n"
     ]
    }
   ],
   "source": [
    "print (\"Before dropping duplicate rows: \", loan.shape)\n",
    "loan.drop_duplicates()\n",
    "print (\"After dropping duplicate rows: \", loan.shape)"
   ]
  },
  {
   "cell_type": "code",
   "execution_count": 54,
   "id": "791f6213",
   "metadata": {},
   "outputs": [],
   "source": [
    "# changing the loan_status to a numeric variable, assign 1 for defaulted loans and 0 for paid off ones\n",
    "loan['loan_status_num'] = loan['loan_status'].apply(lambda x: 1 if x=='Charged Off' else 0)"
   ]
  },
  {
   "cell_type": "markdown",
   "id": "280eabb6",
   "metadata": {},
   "source": [
    "###### Let us start by understanding the correlation between the different numeric fields and see if they are related (high correlation values)"
   ]
  },
  {
   "cell_type": "code",
   "execution_count": 55,
   "id": "d8936d92",
   "metadata": {},
   "outputs": [
    {
     "data": {
      "image/png": "[encoded data removed]",
      "text/plain": [
       "<Figure size 864x864 with 4 Axes>"
      ]
     },
     "metadata": {},
     "output_type": "display_data"
    }
   ],
   "source": [
    "sns.set_style(\"whitegrid\")\n",
    "sns.clustermap(data=loan.corr(), cmap='BrBG', figsize=(12,12))\n",
    "plt.show()"
   ]
  },
  {
   "cell_type": "markdown",
   "id": "31269d32-8f91-4ec6-831d-9dab2453bb77",
   "metadata": {},
   "source": [
    "##### Since we know darker the value higher the correlation , we can clearly see loan_amnt, funded_amnt, funded_amnt_inv and installment have huge correlation these fields are proportional to each other. "
   ]
  },
  {
   "cell_type": "markdown",
   "id": "9c5e689b-e8e3-46d3-a04b-f2cf918b6dc7",
   "metadata": {},
   "source": [
    "## Univariate Analysis"
   ]
  },
  {
   "cell_type": "code",
   "execution_count": 56,
   "id": "3a7cd264",
   "metadata": {},
   "outputs": [
    {
     "data": {
      "text/plain": [
       "count    37541.000000\n",
       "mean     11119.771050\n",
       "std       7354.173376\n",
       "min        500.000000\n",
       "25%       5500.000000\n",
       "50%      10000.000000\n",
       "75%      15000.000000\n",
       "max      35000.000000\n",
       "Name: loan_amnt, dtype: float64"
      ]
     },
     "execution_count": 56,
     "metadata": {},
     "output_type": "execute_result"
    }
   ],
   "source": [
    "loan['loan_amnt'].describe()"
   ]
  },
  {
   "cell_type": "code",
   "execution_count": 57,
   "id": "0bd8db80",
   "metadata": {},
   "outputs": [
    {
     "name": "stdout",
     "output_type": "stream",
     "text": [
      "<class 'pandas.core.frame.DataFrame'>\n",
      "Int64Index: 37541 entries, 0 to 39716\n",
      "Data columns (total 23 columns):\n",
      " #   Column               Non-Null Count  Dtype  \n",
      "---  ------               --------------  -----  \n",
      " 0   loan_amnt            37541 non-null  int64  \n",
      " 1   funded_amnt          37541 non-null  int64  \n",
      " 2   funded_amnt_inv      37541 non-null  float64\n",
      " 3   term                 37541 non-null  object \n",
      " 4   int_rate             37541 non-null  float64\n",
      " 5   installment          37541 non-null  float64\n",
      " 6   grade                37541 non-null  object \n",
      " 7   sub_grade            37541 non-null  object \n",
      " 8   emp_title            36135 non-null  object \n",
      " 9   emp_length           37541 non-null  object \n",
      " 10  home_ownership       37541 non-null  object \n",
      " 11  annual_inc           37541 non-null  float64\n",
      " 12  verification_status  37541 non-null  object \n",
      " 13  loan_status          37541 non-null  object \n",
      " 14  purpose              37541 non-null  object \n",
      " 15  addr_state           37541 non-null  object \n",
      " 16  dti                  37541 non-null  float64\n",
      " 17  open_acc             37541 non-null  int64  \n",
      " 18  revol_bal            37541 non-null  int64  \n",
      " 19  revol_util           37494 non-null  float64\n",
      " 20  issue_y              37541 non-null  int64  \n",
      " 21  issue_m              37541 non-null  object \n",
      " 22  loan_status_num      37541 non-null  int64  \n",
      "dtypes: float64(6), int64(6), object(11)\n",
      "memory usage: 6.9+ MB\n"
     ]
    }
   ],
   "source": [
    "loan.info()"
   ]
  },
  {
   "cell_type": "code",
   "execution_count": 58,
   "id": "b95fb040",
   "metadata": {},
   "outputs": [
    {
     "data": {
      "image/png": "[encoded data removed]",
      "text/plain": [
       "<Figure size 432x288 with 1 Axes>"
      ]
     },
     "metadata": {},
     "output_type": "display_data"
    }
   ],
   "source": [
    "sns.boxplot(loan.int_rate)\n",
    "loan.int_rate.describe()\n",
    "plt.show()"
   ]
  },
  {
   "cell_type": "code",
   "execution_count": 59,
   "id": "d06b7b5a",
   "metadata": {},
   "outputs": [
    {
     "data": {
      "image/png": "[encoded data removed]",
      "text/plain": [
       "<Figure size 432x288 with 1 Axes>"
      ]
     },
     "metadata": {},
     "output_type": "display_data"
    }
   ],
   "source": [
    "sns.boxplot(loan.loan_amnt)\n",
    "loan.loan_amnt.describe()\n",
    "plt.show()"
   ]
  },
  {
   "cell_type": "code",
   "execution_count": 60,
   "id": "2332b2c2",
   "metadata": {},
   "outputs": [
    {
     "data": {
      "image/png": "[encoded data removed]",
      "text/plain": [
       "<Figure size 432x288 with 1 Axes>"
      ]
     },
     "metadata": {},
     "output_type": "display_data"
    }
   ],
   "source": [
    "sns.boxplot(loan.installment)\n",
    "loan.installment.describe()\n",
    "plt.show()"
   ]
  },
  {
   "cell_type": "code",
   "execution_count": 61,
   "id": "5f4ff5ee-4e2e-42b2-9125-9d5ce85bbc36",
   "metadata": {},
   "outputs": [
    {
     "data": {
      "image/png": "[encoded data removed]",
      "text/plain": [
       "<Figure size 432x288 with 1 Axes>"
      ]
     },
     "metadata": {},
     "output_type": "display_data"
    }
   ],
   "source": [
    "sns.boxplot(loan.annual_inc)\n",
    "loan.annual_inc.describe()\n",
    "plt.show()"
   ]
  },
  {
   "cell_type": "code",
   "execution_count": 62,
   "id": "7ae7d5fd-385b-428c-af04-d3bf73b6890f",
   "metadata": {},
   "outputs": [
    {
     "data": {
      "image/png": "[encoded data removed]",
      "text/plain": [
       "<Figure size 432x288 with 1 Axes>"
      ]
     },
     "metadata": {},
     "output_type": "display_data"
    }
   ],
   "source": [
    "sns.boxplot(loan.dti)\n",
    "loan.dti.describe()\n",
    "plt.show()"
   ]
  },
  {
   "cell_type": "code",
   "execution_count": 63,
   "id": "386ac83b-e968-48de-9fd4-44accad9e165",
   "metadata": {},
   "outputs": [
    {
     "data": {
      "image/png": "[encoded data removed]",
      "text/plain": [
       "<Figure size 432x288 with 1 Axes>"
      ]
     },
     "metadata": {},
     "output_type": "display_data"
    }
   ],
   "source": [
    "sns.boxplot(loan.revol_util)\n",
    "loan.revol_util.describe()\n",
    "plt.show()"
   ]
  },
  {
   "cell_type": "markdown",
   "id": "f7371d4a-2eeb-4a38-b042-e04c7d3db11a",
   "metadata": {},
   "source": [
    "#### From above findings we can conclude that column annual_inc have few outliers and no other columns have an outlier"
   ]
  },
  {
   "cell_type": "code",
   "execution_count": 64,
   "id": "ba77b853-6e75-47b0-9fa0-f348f28e9e0d",
   "metadata": {},
   "outputs": [
    {
     "data": {
      "image/png": "[encoded data removed]",
      "text/plain": [
       "<Figure size 432x288 with 1 Axes>"
      ]
     },
     "metadata": {},
     "output_type": "display_data"
    }
   ],
   "source": [
    "sns.boxplot(loan.annual_inc)\n",
    "loan.annual_inc.describe()\n",
    "plt.show()"
   ]
  },
  {
   "cell_type": "code",
   "execution_count": 65,
   "id": "0818cc29-057c-440f-b71f-8d27c4e98c71",
   "metadata": {},
   "outputs": [
    {
     "data": {
      "text/plain": [
       "0.50      60000.0\n",
       "0.75      83000.0\n",
       "0.90     116664.0\n",
       "0.95     142000.0\n",
       "0.97     166240.0\n",
       "0.98     189996.0\n",
       "0.99     235000.0\n",
       "1.00    6000000.0\n",
       "Name: annual_inc, dtype: float64"
      ]
     },
     "execution_count": 65,
     "metadata": {},
     "output_type": "execute_result"
    }
   ],
   "source": [
    "loan_quant = loan.annual_inc.quantile([0.5, 0.75,0.90, 0.95, 0.97,0.98, 0.99,1])\n",
    "loan_quant"
   ]
  },
  {
   "cell_type": "markdown",
   "id": "8494faf8-01ed-43c1-aaee-08480ec23f52",
   "metadata": {},
   "source": [
    "- Outliers above 95 percentile removed"
   ]
  },
  {
   "cell_type": "code",
   "execution_count": 66,
   "id": "d769da45-89ec-429d-9cf9-a3833e856671",
   "metadata": {},
   "outputs": [
    {
     "data": {
      "image/png": "[encoded data removed]",
      "text/plain": [
       "<Figure size 432x288 with 1 Axes>"
      ]
     },
     "metadata": {},
     "output_type": "display_data"
    }
   ],
   "source": [
    "quant_95 = loan['annual_inc'].quantile(0.95)\n",
    "loan = loan[loan['annual_inc'] <= quant_95]\n",
    "sns.boxplot(loan['annual_inc'])\n",
    "plt.show()"
   ]
  },
  {
   "cell_type": "markdown",
   "id": "9ed96f5a-2b50-42de-9445-98bc0d50f26f",
   "metadata": {},
   "source": [
    "### Loan Status"
   ]
  },
  {
   "cell_type": "code",
   "execution_count": 67,
   "id": "02900326-d7ac-4c57-8893-2f78c80f1a62",
   "metadata": {},
   "outputs": [
    {
     "name": "stdout",
     "output_type": "stream",
     "text": [
      "Fully Paid     30476\n",
      "Charged Off     5196\n",
      "Name: loan_status, dtype: int64\n"
     ]
    },
    {
     "data": {
      "image/png": "[encoded data removed]",
      "text/plain": [
       "<Figure size 432x288 with 1 Axes>"
      ]
     },
     "metadata": {},
     "output_type": "display_data"
    }
   ],
   "source": [
    "print(loan[\"loan_status\"].value_counts())\n",
    "g =sns.countplot(loan[\"loan_status\"])\n",
    "g.set_xticklabels(g.get_xticklabels(),rotation=45)\n",
    "g.set_xlabel(\"Loan Status Categories\", fontsize=12)\n",
    "g.set_ylabel(\"Count\", fontsize=15)\n",
    "g.set_title(\"Loan Status Types Distribution\", fontsize=20)\n",
    "plt.show()"
   ]
  },
  {
   "cell_type": "markdown",
   "id": "24c7d900-4072-4b5c-84db-0db5a07e8dcb",
   "metadata": {},
   "source": [
    "##### Insights : Majority of loans are Fully paid and charged off loans are about 14.3% of the total loans"
   ]
  },
  {
   "cell_type": "markdown",
   "id": "a15838b4-4e46-463a-b1c7-0d170004d251",
   "metadata": {},
   "source": [
    "### Term"
   ]
  },
  {
   "cell_type": "code",
   "execution_count": 68,
   "id": "f19096bb-4a79-4272-a22f-c4f79ab7a4b4",
   "metadata": {},
   "outputs": [
    {
     "name": "stdout",
     "output_type": "stream",
     "text": [
      " 36 months    26950\n",
      " 60 months     8722\n",
      "Name: term, dtype: int64\n"
     ]
    },
    {
     "data": {
      "image/png": "[encoded data removed]",
      "text/plain": [
       "<Figure size 432x288 with 1 Axes>"
      ]
     },
     "metadata": {},
     "output_type": "display_data"
    }
   ],
   "source": [
    "print(loan[\"term\"].value_counts())\n",
    "sns.countplot(loan[\"term\"]).set(xlabel='Loan Status', ylabel='No. of Loans')\n",
    "plt.show()"
   ]
  },
  {
   "cell_type": "markdown",
   "id": "7935a7ec-6308-490f-bb54-39a7b4e92c5b",
   "metadata": {},
   "source": [
    "##### Insights : Number of loans borrowed for the term of 36 months is more as compared to the Number of loans borrowed for the term of 60 months"
   ]
  },
  {
   "cell_type": "markdown",
   "id": "44058e28-fcdf-4af4-a263-0f956fb9daf1",
   "metadata": {},
   "source": [
    "### Grade"
   ]
  },
  {
   "cell_type": "code",
   "execution_count": 69,
   "id": "4111b4a4-f11f-44d2-b668-fb20446f818b",
   "metadata": {},
   "outputs": [
    {
     "name": "stdout",
     "output_type": "stream",
     "text": [
      "B    10799\n",
      "A     9275\n",
      "C     7324\n",
      "D     4736\n",
      "E     2407\n",
      "F      869\n",
      "G      262\n",
      "Name: grade, dtype: int64\n"
     ]
    },
    {
     "data": {
      "image/png": "[encoded data removed]",
      "text/plain": [
       "<Figure size 432x288 with 1 Axes>"
      ]
     },
     "metadata": {},
     "output_type": "display_data"
    }
   ],
   "source": [
    "print(loan[\"grade\"].value_counts())\n",
    "g = sns.countplot(loan[\"grade\"])\n",
    "g.set_xlabel(\"Grades\", fontsize=12)\n",
    "g.set_ylabel(\"Count\", fontsize=15)\n",
    "g.set_title(\"Grade Distribution\", fontsize=20)\n",
    "plt.show()"
   ]
  },
  {
   "cell_type": "markdown",
   "id": "2ebfd194-60db-4b97-aae0-c0ed61abc2a1",
   "metadata": {},
   "source": [
    "##### Insights : Maximum loans are given to A, B and C grade applicants "
   ]
  },
  {
   "cell_type": "markdown",
   "id": "c9394982-09e9-4cad-b0fd-ff6b377e1761",
   "metadata": {},
   "source": [
    "## Home_ownership"
   ]
  },
  {
   "cell_type": "code",
   "execution_count": 70,
   "id": "055e90af-e900-418e-9b0f-822f22ff19fb",
   "metadata": {},
   "outputs": [
    {
     "name": "stdout",
     "output_type": "stream",
     "text": [
      "RENT        17638\n",
      "MORTGAGE    15289\n",
      "OWN          2652\n",
      "OTHER          93\n",
      "Name: home_ownership, dtype: int64\n"
     ]
    },
    {
     "data": {
      "image/png": "[encoded data removed]",
      "text/plain": [
       "<Figure size 432x288 with 1 Axes>"
      ]
     },
     "metadata": {},
     "output_type": "display_data"
    }
   ],
   "source": [
    "print(loan[\"home_ownership\"].value_counts())\n",
    "g = sns.countplot(loan[\"home_ownership\"])\n",
    "g.set_xlabel(\"Home Ownership Categories\", fontsize=12)\n",
    "g.set_ylabel(\"Count\", fontsize=15)\n",
    "g.set_title(\"Home Ownership Distribution\", fontsize=20)\n",
    "plt.show()"
   ]
  },
  {
   "cell_type": "markdown",
   "id": "af52e942-7f21-4399-b25d-aa799133a3de",
   "metadata": {},
   "source": [
    "##### Insights: Majority of the borrowers are living in the Rented house and 2nd majority of the borrowers are with the mortgaged homes."
   ]
  },
  {
   "cell_type": "markdown",
   "id": "a5f35098-ebdf-43eb-9515-054197f484a3",
   "metadata": {},
   "source": [
    "### Verification status"
   ]
  },
  {
   "cell_type": "code",
   "execution_count": 71,
   "id": "17930b3b-ffdc-43bb-b2fa-4f62888bc06c",
   "metadata": {},
   "outputs": [
    {
     "name": "stdout",
     "output_type": "stream",
     "text": [
      "Not Verified       15871\n",
      "Verified           10814\n",
      "Source Verified     8987\n",
      "Name: verification_status, dtype: int64\n"
     ]
    },
    {
     "data": {
      "image/png": "[encoded data removed]",
      "text/plain": [
       "<Figure size 432x288 with 1 Axes>"
      ]
     },
     "metadata": {},
     "output_type": "display_data"
    }
   ],
   "source": [
    "print(loan[\"verification_status\"].value_counts())\n",
    "g= sns.countplot(loan[\"verification_status\"])\n",
    "g.set_xlabel(\"Verification Status types\", fontsize=12)\n",
    "g.set_ylabel(\"Count\", fontsize=15)\n",
    "g.set_title(\"Verification Status type Distribution\", fontsize=20)\n",
    "\n",
    "plt.show()"
   ]
  },
  {
   "cell_type": "markdown",
   "id": "3d41db59-c874-42cd-a1a6-3a8df3bb529c",
   "metadata": {},
   "source": [
    "##### Insights: Maximum Number of loans are Not Verified and these 'Not Verified' customers are potential risk to the business."
   ]
  },
  {
   "cell_type": "markdown",
   "id": "f9217f2c-bb40-40eb-ae43-db1a2203d2a6",
   "metadata": {},
   "source": [
    "### Purpose"
   ]
  },
  {
   "cell_type": "code",
   "execution_count": 100,
   "id": "ad599873-e930-4504-8b8d-ecab1a3b1f1c",
   "metadata": {},
   "outputs": [
    {
     "name": "stdout",
     "output_type": "stream",
     "text": [
      "debt_consolidation    16940\n",
      "credit_card            4661\n",
      "other                  3548\n",
      "home_improvement       2475\n",
      "major_purchase         1980\n",
      "small_business         1586\n",
      "car                    1400\n",
      "wedding                 883\n",
      "medical                 617\n",
      "moving                  527\n",
      "vacation                338\n",
      "house                   325\n",
      "educational             305\n",
      "renewable_energy         87\n",
      "Name: purpose, dtype: int64\n"
     ]
    },
    {
     "data": {
      "image/png": "[encoded data removed]",
      "text/plain": [
       "<Figure size 432x288 with 1 Axes>"
      ]
     },
     "metadata": {},
     "output_type": "display_data"
    }
   ],
   "source": [
    "print(loan[\"purpose\"].value_counts())\n",
    "g = sns.countplot(loan[\"purpose\"])\n",
    "g.set_xlabel(\"purposes\", fontsize=12)\n",
    "g.set_ylabel(\"Count\", fontsize=15)\n",
    "g.set_title(\"Purpose Distribution\", fontsize=20)\n",
    "plt.xticks(rotation=90)\n",
    "plt.show()"
   ]
  },
  {
   "cell_type": "markdown",
   "id": "f16bbca0-e0b4-4d8b-b46e-a3b3c90d56db",
   "metadata": {},
   "source": [
    "##### Insights: Majority of loans are taken for the debt consolidation purpose."
   ]
  },
  {
   "cell_type": "markdown",
   "id": "e5aa5bb8-e2a8-4498-a443-3ccec4e1ef87",
   "metadata": {},
   "source": [
    "## Emp_lenght"
   ]
  },
  {
   "cell_type": "code",
   "execution_count": 102,
   "id": "56a3aa87-b5f3-4214-a05e-9c3f28f6e7a1",
   "metadata": {},
   "outputs": [
    {
     "name": "stdout",
     "output_type": "stream",
     "text": [
      "10+ years    7893\n",
      "< 1 year     4329\n",
      "2 years      4105\n",
      "3 years      3830\n",
      "4 years      3202\n",
      "5 years      3047\n",
      "1 year       3047\n",
      "6 years      2076\n",
      "7 years      1644\n",
      "8 years      1345\n",
      "9 years      1154\n",
      "Name: emp_length, dtype: int64\n"
     ]
    },
    {
     "data": {
      "image/png": "[encoded data removed]",
      "text/plain": [
       "<Figure size 432x288 with 1 Axes>"
      ]
     },
     "metadata": {},
     "output_type": "display_data"
    }
   ],
   "source": [
    "print(loan[\"emp_length\"].value_counts())\n",
    "g= sns.countplot(loan[\"emp_length\"])\n",
    "g.set_xlabel(\"Employee experience\", fontsize=12)\n",
    "g.set_ylabel(\"Count\", fontsize=15)\n",
    "g.set_title(\"Employee experience Distribution\", fontsize=20)\n",
    "plt.xticks(rotation=90)\n",
    "plt.show()"
   ]
  },
  {
   "cell_type": "markdown",
   "id": "3ca9dd31-162c-4d2f-b125-bf35c48437bd",
   "metadata": {},
   "source": [
    "#### Insights : Applicants who have 10+ years and <1 year of experience are more for the loan."
   ]
  },
  {
   "cell_type": "markdown",
   "id": "667ba2ba-e763-4e4f-b723-9892d1c2f7a1",
   "metadata": {},
   "source": [
    "## Issue_y"
   ]
  },
  {
   "cell_type": "code",
   "execution_count": 74,
   "id": "c4077eb1-559a-4548-959d-f78f011a4f04",
   "metadata": {},
   "outputs": [
    {
     "data": {
      "text/plain": [
       "issue_y\n",
       "7       228\n",
       "8      1488\n",
       "9      4481\n",
       "10    10713\n",
       "11    18762\n",
       "Name: loan_status, dtype: int64"
      ]
     },
     "execution_count": 74,
     "metadata": {},
     "output_type": "execute_result"
    },
    {
     "data": {
      "text/plain": [
       "<Figure size 576x576 with 0 Axes>"
      ]
     },
     "metadata": {},
     "output_type": "display_data"
    }
   ],
   "source": [
    "plt.figure(figsize=(8,8))\n",
    "g_data = loan.groupby('issue_y')['loan_status'].count()\n",
    "g_data"
   ]
  },
  {
   "cell_type": "code",
   "execution_count": 75,
   "id": "734d6972-7c17-4eb4-8267-5c2208e6e653",
   "metadata": {},
   "outputs": [
    {
     "data": {
      "image/png": "[encoded data removed]",
      "text/plain": [
       "<Figure size 432x288 with 1 Axes>"
      ]
     },
     "metadata": {},
     "output_type": "display_data"
    }
   ],
   "source": [
    "g_data.plot.line(x_compat=True)\n",
    "plt.xticks(np.arange(min(g_data.index), max(g_data.index)+1, 1.0))\n",
    "plt.title('No of loan granted over the years')\n",
    "plt.xlabel('Loan issue year')\n",
    "plt.ylabel('Loan Count')\n",
    "plt.show()"
   ]
  },
  {
   "cell_type": "markdown",
   "id": "eac4a7f8-134e-41cc-9a6a-1f05d45c981f",
   "metadata": {},
   "source": [
    "##### Insights: From the above graph it shows as over the years the number of approved loans been increased."
   ]
  },
  {
   "cell_type": "code",
   "execution_count": 107,
   "id": "3a9e8277-ada5-4fd6-b5b1-219961e3e33d",
   "metadata": {
    "scrolled": true
   },
   "outputs": [
    {
     "data": {
      "image/png": "[encoded data removed]",
      "text/plain": [
       "<Figure size 720x720 with 1 Axes>"
      ]
     },
     "metadata": {},
     "output_type": "display_data"
    }
   ],
   "source": [
    "plt.figure(figsize=(10,10))\n",
    "g =sns.countplot(loan[\"issue_m\"])\n",
    "g.set_xlabel(\"Months\", fontsize=12)\n",
    "g.set_ylabel(\"Count\", fontsize=15)\n",
    "g.set_title(\"No. of loans granted over the months\", fontsize=20)\n",
    "plt.show()"
   ]
  },
  {
   "cell_type": "markdown",
   "id": "590b044f-9f34-4dc0-9532-061e9e9aff55",
   "metadata": {},
   "source": [
    "##### Insights: It seems like during December more number of customers are applying for the loan."
   ]
  },
  {
   "cell_type": "code",
   "execution_count": 77,
   "id": "c465ff2f-718c-4e52-ae21-7f5e6d947cf3",
   "metadata": {},
   "outputs": [
    {
     "data": {
      "image/png": "[encoded data removed]",
      "text/plain": [
       "<Figure size 576x576 with 1 Axes>"
      ]
     },
     "metadata": {},
     "output_type": "display_data"
    }
   ],
   "source": [
    "plt.figure(figsize=(8,8))\n",
    "sns.countplot(loan[\"verification_status\"], hue ='loan_status',data = loan)\n",
    "plt.show()"
   ]
  },
  {
   "cell_type": "markdown",
   "id": "9d5589da",
   "metadata": {},
   "source": [
    "#####  Insights: It seems like there are more 'Not Verified' accounts than 'Verified' accounts. It might be a potential risk to the business and company has to focus on more of the 'Verified' accounts."
   ]
  },
  {
   "cell_type": "markdown",
   "id": "87e63514",
   "metadata": {},
   "source": [
    "## Purpose"
   ]
  },
  {
   "cell_type": "code",
   "execution_count": 78,
   "id": "a82c0355-9bd8-4ca9-9800-400c23766819",
   "metadata": {},
   "outputs": [
    {
     "data": {
      "image/png": "[encoded data removed]",
      "text/plain": [
       "<Figure size 720x720 with 1 Axes>"
      ]
     },
     "metadata": {},
     "output_type": "display_data"
    }
   ],
   "source": [
    "plt.figure(figsize=(10,10))\n",
    "sns.countplot(loan[\"purpose\"], hue ='loan_status',data = loan)\n",
    "plt.xticks(rotation=90)\n",
    "plt.show()"
   ]
  },
  {
   "cell_type": "markdown",
   "id": "3cdd939b",
   "metadata": {},
   "source": [
    "##### Insights: From the above chart top 2 purposes for applying the loans shows as 'debt consolidation' & 'credit card'. Seems a lot of people are trapped in the credit card and other loans, they are trying to close their exisiting loan accounts in order to get relieved from them. (Taking the new loans to close the exisiting ones)."
   ]
  },
  {
   "cell_type": "code",
   "execution_count": 79,
   "id": "ca2bdc3b-fa85-4f33-b598-613d21023415",
   "metadata": {},
   "outputs": [
    {
     "data": {
      "text/plain": [
       "CA    17.904799\n",
       "NY     9.447185\n",
       "FL     7.201727\n",
       "TX     6.798049\n",
       "NJ     4.633887\n",
       "PA     3.899417\n",
       "IL     3.848957\n",
       "VA     3.588248\n",
       "GA     3.506952\n",
       "MA     3.313523\n",
       "OH     3.131307\n",
       "MD     2.671563\n",
       "AZ     2.158556\n",
       "WA     2.102489\n",
       "CO     2.018390\n",
       "NC     1.948307\n",
       "CT     1.836174\n",
       "MI     1.822157\n",
       "MO     1.754878\n",
       "MN     1.586679\n",
       "NV     1.241870\n",
       "SC     1.213837\n",
       "OR     1.160574\n",
       "WI     1.152164\n",
       "AL     1.138148\n",
       "LA     1.096098\n",
       "KY     0.840996\n",
       "OK     0.773716\n",
       "UT     0.664387\n",
       "KS     0.655977\n",
       "AR     0.619534\n",
       "DC     0.546647\n",
       "RI     0.515811\n",
       "NM     0.484974\n",
       "WV     0.451334\n",
       "HI     0.440121\n",
       "NH     0.414891\n",
       "DE     0.297152\n",
       "MT     0.215856\n",
       "WY     0.213052\n",
       "AK     0.193429\n",
       "SD     0.171002\n",
       "VT     0.148576\n",
       "MS     0.053263\n",
       "TN     0.047656\n",
       "IN     0.025230\n",
       "IA     0.014017\n",
       "NE     0.014017\n",
       "ID     0.014017\n",
       "ME     0.008410\n",
       "Name: addr_state, dtype: float64"
      ]
     },
     "execution_count": 79,
     "metadata": {},
     "output_type": "execute_result"
    }
   ],
   "source": [
    "addr_state_per = (loan['addr_state'].value_counts(normalize = True))*100\n",
    "addr_state_per"
   ]
  },
  {
   "cell_type": "markdown",
   "id": "e645e45d",
   "metadata": {},
   "source": [
    "##### Insights: From the above data it shows as a lot of borrowers are from CA & NY. Maybe it's due to high in population in those states. But we don't have the population data to confirm that."
   ]
  },
  {
   "cell_type": "code",
   "execution_count": 144,
   "id": "b7a582f1",
   "metadata": {},
   "outputs": [
    {
     "data": {
      "image/png": "[encoded data removed]",
      "text/plain": [
       "<Figure size 1080x720 with 1 Axes>"
      ]
     },
     "metadata": {},
     "output_type": "display_data"
    }
   ],
   "source": [
    "df_state = loan[loan['loan_status']=='Charged Off'].groupby('addr_state')['loan_status'].count().reset_index()\n",
    "plt.figure(figsize=(15,10))\n",
    "sns.barplot(x='addr_state', y='loan_status', data=df_state, palette='pastel')\n",
    "plt.xlabel('State')\n",
    "plt.ylabel('Loan Status (Charged Off)')\n",
    "plt.show()"
   ]
  },
  {
   "attachments": {},
   "cell_type": "markdown",
   "id": "153a295c",
   "metadata": {},
   "source": [
    "##### Insights: From the above bar chart it CA, NY & FL has high charged off loans."
   ]
  },
  {
   "cell_type": "code",
   "execution_count": 80,
   "id": "ba8cd13a-2714-45b8-ae35-7a7e735af29d",
   "metadata": {},
   "outputs": [
    {
     "data": {
      "text/plain": [
       "Index(['loan_amnt', 'funded_amnt', 'funded_amnt_inv', 'term', 'int_rate',\n",
       "       'installment', 'grade', 'sub_grade', 'emp_title', 'emp_length',\n",
       "       'home_ownership', 'annual_inc', 'verification_status', 'loan_status',\n",
       "       'purpose', 'addr_state', 'dti', 'open_acc', 'revol_bal', 'revol_util',\n",
       "       'issue_y', 'issue_m', 'loan_status_num'],\n",
       "      dtype='object')"
      ]
     },
     "execution_count": 80,
     "metadata": {},
     "output_type": "execute_result"
    }
   ],
   "source": [
    "loan.columns"
   ]
  },
  {
   "cell_type": "markdown",
   "id": "bd04dcea-6076-4d5e-8d2c-b82bc77200eb",
   "metadata": {},
   "source": [
    "### Amount funded by the investors"
   ]
  },
  {
   "cell_type": "code",
   "execution_count": 113,
   "id": "fe82573b-6d6b-43bc-b201-7b7e3787cee5",
   "metadata": {},
   "outputs": [
    {
     "data": {
      "image/png": "[encoded data removed]",
      "text/plain": [
       "<Figure size 432x288 with 1 Axes>"
      ]
     },
     "metadata": {},
     "output_type": "display_data"
    }
   ],
   "source": [
    "sns.distplot(loan['funded_amnt_inv'])\n",
    "plt.show()"
   ]
  },
  {
   "cell_type": "markdown",
   "id": "1fb605aa-8d2f-4ea4-82cc-a4b288c91c8d",
   "metadata": {},
   "source": [
    "##### Insights: Majority of Amount funded by invertors is 5000"
   ]
  },
  {
   "cell_type": "code",
   "execution_count": 108,
   "id": "9d1387f5",
   "metadata": {},
   "outputs": [
    {
     "data": {
      "image/png": "[encoded data removed]",
      "text/plain": [
       "<Figure size 432x288 with 1 Axes>"
      ]
     },
     "metadata": {},
     "output_type": "display_data"
    }
   ],
   "source": [
    "sns.distplot(loan['funded_amnt'])\n",
    "\n",
    "plt.show()"
   ]
  },
  {
   "cell_type": "code",
   "execution_count": 83,
   "id": "0951971d-de2f-4793-9faf-4a6c450f3e53",
   "metadata": {},
   "outputs": [
    {
     "name": "stdout",
     "output_type": "stream",
     "text": [
      "<class 'pandas.core.frame.DataFrame'>\n",
      "Int64Index: 35672 entries, 0 to 39716\n",
      "Data columns (total 23 columns):\n",
      " #   Column               Non-Null Count  Dtype  \n",
      "---  ------               --------------  -----  \n",
      " 0   loan_amnt            35672 non-null  int64  \n",
      " 1   funded_amnt          35672 non-null  int64  \n",
      " 2   funded_amnt_inv      35672 non-null  float64\n",
      " 3   term                 35672 non-null  object \n",
      " 4   int_rate             35672 non-null  float64\n",
      " 5   installment          35672 non-null  float64\n",
      " 6   grade                35672 non-null  object \n",
      " 7   sub_grade            35672 non-null  object \n",
      " 8   emp_title            34429 non-null  object \n",
      " 9   emp_length           35672 non-null  object \n",
      " 10  home_ownership       35672 non-null  object \n",
      " 11  annual_inc           35672 non-null  float64\n",
      " 12  verification_status  35672 non-null  object \n",
      " 13  loan_status          35672 non-null  object \n",
      " 14  purpose              35672 non-null  object \n",
      " 15  addr_state           35672 non-null  object \n",
      " 16  dti                  35672 non-null  float64\n",
      " 17  open_acc             35672 non-null  int64  \n",
      " 18  revol_bal            35672 non-null  int64  \n",
      " 19  revol_util           35627 non-null  float64\n",
      " 20  issue_y              35672 non-null  int64  \n",
      " 21  issue_m              35672 non-null  object \n",
      " 22  loan_status_num      35672 non-null  int64  \n",
      "dtypes: float64(6), int64(6), object(11)\n",
      "memory usage: 6.5+ MB\n"
     ]
    }
   ],
   "source": [
    "loan.info()"
   ]
  },
  {
   "cell_type": "markdown",
   "id": "0511e949-85a2-45ca-b528-d7bdd0815292",
   "metadata": {},
   "source": [
    "## Bi-Variate Analysis"
   ]
  },
  {
   "cell_type": "markdown",
   "id": "813830e6",
   "metadata": {},
   "source": [
    "#### Grade vs Interest rate"
   ]
  },
  {
   "cell_type": "code",
   "execution_count": 82,
   "id": "b799058c",
   "metadata": {},
   "outputs": [
    {
     "data": {
      "image/png": "[encoded data removed]",
      "text/plain": [
       "<Figure size 432x288 with 1 Axes>"
      ]
     },
     "metadata": {},
     "output_type": "display_data"
    }
   ],
   "source": [
    "sns.barplot(data=loan,x='grade',y='int_rate',order=['A', 'B', 'C', 'D', 'E', 'F', 'G'])\n",
    "plt.title('Grade vs Interest rate',fontsize=12)\n",
    "plt.xlabel(\"Grade\")\n",
    "plt.ylabel(\"Interest Rate\")\n",
    "plt.show()"
   ]
  },
  {
   "cell_type": "markdown",
   "id": "48c3a86f",
   "metadata": {},
   "source": [
    "##### Insights: Interest rates are high for lower grades of borrowers. It seems a good strategy and the grading system in the company works well and they can continue using this."
   ]
  },
  {
   "cell_type": "code",
   "execution_count": 115,
   "id": "7f096e8a",
   "metadata": {},
   "outputs": [
    {
     "data": {
      "image/png": "[encoded data removed]",
      "text/plain": [
       "<Figure size 432x288 with 1 Axes>"
      ]
     },
     "metadata": {},
     "output_type": "display_data"
    }
   ],
   "source": [
    "sns.boxplot(y='int_rate', x='loan_status', data=loan)\n",
    "plt.title('Loan status vs Interest rate',fontsize=12)\n",
    "plt.ylabel('Interest Rate')\n",
    "plt.xlabel('Loan Status')\n",
    "plt.show()"
   ]
  },
  {
   "cell_type": "markdown",
   "id": "587eea3d",
   "metadata": {},
   "source": [
    "##### Insights: It shows that Charged Off loans has higher interest rates and I think it's a good strategy to handle the risk."
   ]
  },
  {
   "cell_type": "markdown",
   "id": "964b6e0f",
   "metadata": {},
   "source": [
    "#### Purpose vs Interest rate"
   ]
  },
  {
   "cell_type": "code",
   "execution_count": 85,
   "id": "ac305ac8",
   "metadata": {
    "scrolled": true
   },
   "outputs": [
    {
     "data": {
      "image/png": "[encoded data removed]",
      "text/plain": [
       "<Figure size 432x288 with 1 Axes>"
      ]
     },
     "metadata": {},
     "output_type": "display_data"
    }
   ],
   "source": [
    "sns.barplot(data=loan,x='purpose',y='int_rate')\n",
    "plt.xticks(rotation=90)\n",
    "plt.title('Purpose vs Interest rate',fontsize=12)\n",
    "plt.xlabel(\"Purpose\")\n",
    "plt.ylabel(\"Interest Rate\")\n",
    "plt.show()"
   ]
  },
  {
   "cell_type": "markdown",
   "id": "ffa3329c",
   "metadata": {},
   "source": [
    "##### Insights: It looks like highest interest rates (above 12%) are given to small business, debt consolidation & House.\n",
    "##### It seems company identified these loans borrowers are at risk and they have increased their interest rates. However, we need to look at other driving factors to see if we need to continue offering the high interest rates to these borrowers.\n",
    "##### Example: Small business group of borrowers maybe a potential risk."
   ]
  },
  {
   "cell_type": "markdown",
   "id": "af9a2b57-d37a-4700-b28f-a7931a066143",
   "metadata": {},
   "source": [
    "### Analyzing 'annual income' with other columns for more insights"
   ]
  },
  {
   "cell_type": "markdown",
   "id": "b24806bf-c7c4-461b-afe3-a807b810995d",
   "metadata": {},
   "source": [
    "#### Annual Income vs Loan Purpose"
   ]
  },
  {
   "cell_type": "code",
   "execution_count": 116,
   "id": "717b844c-1d6a-40c6-9ed2-f1ab184be052",
   "metadata": {},
   "outputs": [
    {
     "data": {
      "image/png": "[encoded data removed]",
      "text/plain": [
       "<Figure size 864x864 with 1 Axes>"
      ]
     },
     "metadata": {},
     "output_type": "display_data"
    }
   ],
   "source": [
    "plt.figure(figsize=(12,12))\n",
    "sns.barplot(data=loan, x='annual_inc', y='purpose', hue='loan_status', palette = 'Set2')\n",
    "plt.title('Annual Income vs Purpose',fontsize=12)\n",
    "plt.xlabel('Annual Income')\n",
    "plt.show()"
   ]
  },
  {
   "cell_type": "markdown",
   "id": "e2fbb5a5-316b-40a3-869a-a264c9a006b5",
   "metadata": {},
   "source": [
    "##### Insights: From the above Analysis, we can say that borrowers with higher salary has largely applied loans for purposes such as 'home improvement', 'house', 'renewable energy' and 'small business'\n",
    "##### There is a high probability of defaulting when borrowers take loan for 'home improvement', 'house', 'small business' with a income of 60K-70K"
   ]
  },
  {
   "cell_type": "markdown",
   "id": "578ad5df-dbac-435a-91e8-b5885135eb6d",
   "metadata": {},
   "source": [
    "#### Annual Income vs Home ownership"
   ]
  },
  {
   "cell_type": "code",
   "execution_count": 117,
   "id": "b60ec9a6-2546-4921-b5ef-2b6edf0f7d3a",
   "metadata": {},
   "outputs": [
    {
     "data": {
      "image/png": "[encoded data removed]",
      "text/plain": [
       "<Figure size 864x864 with 1 Axes>"
      ]
     },
     "metadata": {},
     "output_type": "display_data"
    }
   ],
   "source": [
    "plt.figure(figsize=(12,12))\n",
    "sns.barplot(data=loan, x='home_ownership', y='annual_inc', hue ='loan_status',palette=\"Accent\")\n",
    "plt.title('Home ownership vs Annual Income',fontsize=12)\n",
    "plt.xlabel('Home ownership')\n",
    "plt.ylabel('Annual Income')\n",
    "plt.show()"
   ]
  },
  {
   "cell_type": "markdown",
   "id": "3c4ceda5-cc55-48cf-9675-e3e4cdfef494",
   "metadata": {},
   "source": [
    "##### Insights: It looks like borrowers who has an income of  60K - 70K takes the Mortgage loan, more likely to be defaulted. So, the company has to reduce the number of loans to be approved in this category."
   ]
  },
  {
   "cell_type": "markdown",
   "id": "cbebbb0c-c695-449e-aab4-256156ab070e",
   "metadata": {},
   "source": [
    "### Loan Amount vs Home ownership"
   ]
  },
  {
   "cell_type": "code",
   "execution_count": 119,
   "id": "8a91155b-43d3-4027-b1e7-f46c5f7a410d",
   "metadata": {
    "scrolled": true
   },
   "outputs": [
    {
     "data": {
      "image/png": "[encoded data removed]",
      "text/plain": [
       "<Figure size 720x720 with 1 Axes>"
      ]
     },
     "metadata": {},
     "output_type": "display_data"
    }
   ],
   "source": [
    "plt.figure(figsize=(10,10))\n",
    "sns.barplot(data=loan,x='loan_amnt', y='home_ownership', hue ='loan_status',palette=\"crest\")\n",
    "plt.title('Loan Amount vs Home Ownership',fontsize=12)\n",
    "plt.xlabel('Loan Amount')\n",
    "plt.ylabel('Home Ownership')\n",
    "plt.show()"
   ]
  },
  {
   "cell_type": "markdown",
   "id": "b11d144d",
   "metadata": {},
   "source": [
    "##### Insights: From the above chart the loan amount is higher for mortgage loans. It seems company's loan amount strategy is well defined because buying the house required more amount and also when the borrowers getting defaulted the company has an option of auction the property to get the money back. So, the point is even though the defaulters and the loan amount are higher in mortgage its fine for the company to offer more mortgage loans because the risk seems to be lower."
   ]
  },
  {
   "cell_type": "markdown",
   "id": "f2fefa30",
   "metadata": {},
   "source": [
    "### Verification Status vs Loan amount"
   ]
  },
  {
   "cell_type": "code",
   "execution_count": 121,
   "id": "217e167f-0c1b-4e52-bdec-cccd356e7330",
   "metadata": {},
   "outputs": [
    {
     "data": {
      "image/png": "[encoded data removed]",
      "text/plain": [
       "<Figure size 576x432 with 1 Axes>"
      ]
     },
     "metadata": {},
     "output_type": "display_data"
    }
   ],
   "source": [
    "plt.figure(figsize=(8,6))\n",
    "sns.barplot(data=loan,y='loan_amnt', x='verification_status', hue ='loan_status',palette=\"seismic_r\")\n",
    "plt.title('Verification Status vs Loan Amount',fontsize=12)\n",
    "plt.xlabel('Verification Status')\n",
    "plt.ylabel('Loan Amount')\n",
    "plt.show()"
   ]
  },
  {
   "cell_type": "markdown",
   "id": "d4aaa873",
   "metadata": {},
   "source": [
    "- ##### Insights: In the Not Verified case the company has given the loan amount less than 10K and from the above observation charged off cases in Not verified is so lower than the Verified with higher loan amount.\n",
    "- ##### Looking at the verification status data, verified loan applications tend to have higher loan amount. Which might indicate that the firms are first verifying the loans with higher values."
   ]
  },
  {
   "cell_type": "markdown",
   "id": "d6269c0e",
   "metadata": {},
   "source": [
    "### Interest Rate Vs Grade"
   ]
  },
  {
   "cell_type": "code",
   "execution_count": 122,
   "id": "b768f409-57ee-46d8-a8e0-3ef5957097b7",
   "metadata": {},
   "outputs": [
    {
     "data": {
      "image/png": "[encoded data removed]",
      "text/plain": [
       "<Figure size 720x720 with 1 Axes>"
      ]
     },
     "metadata": {},
     "output_type": "display_data"
    }
   ],
   "source": [
    "plt.figure(figsize=(10,10))\n",
    "sns.barplot(data=loan,x='int_rate', y='grade', hue ='loan_status',palette=\"ocean\", order=['A','B','C','D','E','F','G'])\n",
    "plt.title('Interest Rate Vs Grade',fontsize=12)\n",
    "plt.xlabel('Interest Rate')\n",
    "plt.show()"
   ]
  },
  {
   "cell_type": "markdown",
   "id": "2aa0e627",
   "metadata": {},
   "source": [
    "##### Insights: The company has given the higher interest rates for lower grade borrowers E,F,G in order to mitigatge the risk. We think the company can continue this strategy. However, giving the loans to lower grade borrowers always riskier."
   ]
  },
  {
   "cell_type": "code",
   "execution_count": 91,
   "id": "7b22dbaa",
   "metadata": {},
   "outputs": [
    {
     "name": "stdout",
     "output_type": "stream",
     "text": [
      "<class 'pandas.core.frame.DataFrame'>\n",
      "Int64Index: 35672 entries, 0 to 39716\n",
      "Data columns (total 23 columns):\n",
      " #   Column               Non-Null Count  Dtype  \n",
      "---  ------               --------------  -----  \n",
      " 0   loan_amnt            35672 non-null  int64  \n",
      " 1   funded_amnt          35672 non-null  int64  \n",
      " 2   funded_amnt_inv      35672 non-null  float64\n",
      " 3   term                 35672 non-null  object \n",
      " 4   int_rate             35672 non-null  float64\n",
      " 5   installment          35672 non-null  float64\n",
      " 6   grade                35672 non-null  object \n",
      " 7   sub_grade            35672 non-null  object \n",
      " 8   emp_title            34429 non-null  object \n",
      " 9   emp_length           35672 non-null  object \n",
      " 10  home_ownership       35672 non-null  object \n",
      " 11  annual_inc           35672 non-null  float64\n",
      " 12  verification_status  35672 non-null  object \n",
      " 13  loan_status          35672 non-null  object \n",
      " 14  purpose              35672 non-null  object \n",
      " 15  addr_state           35672 non-null  object \n",
      " 16  dti                  35672 non-null  float64\n",
      " 17  open_acc             35672 non-null  int64  \n",
      " 18  revol_bal            35672 non-null  int64  \n",
      " 19  revol_util           35627 non-null  float64\n",
      " 20  issue_y              35672 non-null  int64  \n",
      " 21  issue_m              35672 non-null  object \n",
      " 22  loan_status_num      35672 non-null  int64  \n",
      "dtypes: float64(6), int64(6), object(11)\n",
      "memory usage: 6.5+ MB\n"
     ]
    }
   ],
   "source": [
    "loan.info()"
   ]
  },
  {
   "cell_type": "code",
   "execution_count": 92,
   "id": "d500e4e7",
   "metadata": {},
   "outputs": [
    {
     "data": {
      "text/plain": [
       "count    35672.000000\n",
       "mean        13.457607\n",
       "std          6.649273\n",
       "min          0.000000\n",
       "25%          8.370000\n",
       "50%         13.590000\n",
       "75%         18.700000\n",
       "max         29.990000\n",
       "Name: dti, dtype: float64"
      ]
     },
     "execution_count": 92,
     "metadata": {},
     "output_type": "execute_result"
    }
   ],
   "source": [
    "loan.dti.describe()"
   ]
  },
  {
   "cell_type": "code",
   "execution_count": 93,
   "id": "23ed9445",
   "metadata": {},
   "outputs": [],
   "source": [
    "# Create derived variable \n",
    "loan['dti_bin'] = pd.cut(loan['dti'], [0,5,10,15,20,25,30], labels=['0-5','5-10','10-15','15-20','20-25','25-30'])"
   ]
  },
  {
   "cell_type": "code",
   "execution_count": 124,
   "id": "5bf8c095-ba22-41a2-8ef0-dfa7cba61e62",
   "metadata": {},
   "outputs": [
    {
     "data": {
      "image/png": "[encoded data removed]",
      "text/plain": [
       "<Figure size 1440x360 with 1 Axes>"
      ]
     },
     "metadata": {},
     "output_type": "display_data"
    }
   ],
   "source": [
    "plt.figure(figsize=(20,5))\n",
    "sns.barplot(x='dti_bin', y='open_acc', hue='loan_status',data=loan, estimator=np.mean)\n",
    "plt.title('DTI vs Open Acc',fontsize=12)\n",
    "plt.show()"
   ]
  },
  {
   "cell_type": "markdown",
   "id": "09383a00",
   "metadata": {},
   "source": [
    "##### Insights: From the above chart higher the dti the number of open accounts are more. The company has to focus more on lower dti loan applicants and stop approving the loans for higher dti applicants."
   ]
  },
  {
   "cell_type": "code",
   "execution_count": 95,
   "id": "dcd8aa19",
   "metadata": {},
   "outputs": [
    {
     "name": "stdout",
     "output_type": "stream",
     "text": [
      "<class 'pandas.core.frame.DataFrame'>\n",
      "Int64Index: 35672 entries, 0 to 39716\n",
      "Data columns (total 24 columns):\n",
      " #   Column               Non-Null Count  Dtype   \n",
      "---  ------               --------------  -----   \n",
      " 0   loan_amnt            35672 non-null  int64   \n",
      " 1   funded_amnt          35672 non-null  int64   \n",
      " 2   funded_amnt_inv      35672 non-null  float64 \n",
      " 3   term                 35672 non-null  object  \n",
      " 4   int_rate             35672 non-null  float64 \n",
      " 5   installment          35672 non-null  float64 \n",
      " 6   grade                35672 non-null  object  \n",
      " 7   sub_grade            35672 non-null  object  \n",
      " 8   emp_title            34429 non-null  object  \n",
      " 9   emp_length           35672 non-null  object  \n",
      " 10  home_ownership       35672 non-null  object  \n",
      " 11  annual_inc           35672 non-null  float64 \n",
      " 12  verification_status  35672 non-null  object  \n",
      " 13  loan_status          35672 non-null  object  \n",
      " 14  purpose              35672 non-null  object  \n",
      " 15  addr_state           35672 non-null  object  \n",
      " 16  dti                  35672 non-null  float64 \n",
      " 17  open_acc             35672 non-null  int64   \n",
      " 18  revol_bal            35672 non-null  int64   \n",
      " 19  revol_util           35627 non-null  float64 \n",
      " 20  issue_y              35672 non-null  int64   \n",
      " 21  issue_m              35672 non-null  object  \n",
      " 22  loan_status_num      35672 non-null  int64   \n",
      " 23  dti_bin              35512 non-null  category\n",
      "dtypes: category(1), float64(6), int64(6), object(11)\n",
      "memory usage: 6.6+ MB\n"
     ]
    }
   ],
   "source": [
    "loan.info()"
   ]
  },
  {
   "cell_type": "code",
   "execution_count": 96,
   "id": "994f2160",
   "metadata": {},
   "outputs": [
    {
     "data": {
      "text/plain": [
       "<seaborn.axisgrid.FacetGrid at 0x20e0408f280>"
      ]
     },
     "execution_count": 96,
     "metadata": {},
     "output_type": "execute_result"
    },
    {
     "data": {
      "image/png": "[encoded data removed]",
      "text/plain": [
       "<Figure size 459.475x360 with 1 Axes>"
      ]
     },
     "metadata": {},
     "output_type": "display_data"
    }
   ],
   "source": [
    "sns.catplot(x = 'term', y = 'loan_amnt', data = loan,hue = 'loan_status', kind = 'bar')\n"
   ]
  },
  {
   "cell_type": "code",
   "execution_count": 127,
   "id": "5c04c7be",
   "metadata": {},
   "outputs": [
    {
     "data": {
      "image/png": "[encoded data removed]",
      "text/plain": [
       "<Figure size 1440x1440 with 1 Axes>"
      ]
     },
     "metadata": {},
     "output_type": "display_data"
    }
   ],
   "source": [
    "plt.figure(figsize=(20,20))\n",
    "plt.subplot(221)\n",
    "sns.barplot(data =loan,y='loan_amnt', x='emp_length', hue ='loan_status',palette=\"pastel\")\n",
    "plt.title('Employee Length vs Loan Amount',fontsize=12)\n",
    "plt.show()\n"
   ]
  },
  {
   "cell_type": "markdown",
   "id": "ed8484bb",
   "metadata": {},
   "source": [
    "##### Insights: Borrowers with longer working history got the loan approved for the higher loan amount"
   ]
  },
  {
   "cell_type": "code",
   "execution_count": null,
   "id": "e4f34993",
   "metadata": {},
   "outputs": [],
   "source": []
  }
 ],
 "metadata": {
  "kernelspec": {
   "display_name": "Python 3 (ipykernel)",
   "language": "python",
   "name": "python3"
  },
  "language_info": {
   "codemirror_mode": {
    "name": "ipython",
    "version": 3
   },
   "file_extension": ".py",
   "mimetype": "text/x-python",
   "name": "python",
   "nbconvert_exporter": "python",
   "pygments_lexer": "ipython3",
   "version": "3.9.12"
  }
 },
 "nbformat": 4,
 "nbformat_minor": 5
}
